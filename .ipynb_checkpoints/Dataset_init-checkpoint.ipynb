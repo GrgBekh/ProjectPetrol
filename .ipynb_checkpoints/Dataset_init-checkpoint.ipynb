{
 "cells": [
  {
   "cell_type": "code",
   "execution_count": 1,
   "metadata": {
    "colab": {
     "base_uri": "https://localhost:8080/"
    },
    "executionInfo": {
     "elapsed": 12058,
     "status": "ok",
     "timestamp": 1689346257033,
     "user": {
      "displayName": "кто-то там",
      "userId": "18035495133147418666"
     },
     "user_tz": -300
    },
    "id": "DJZkiJ_GesB1",
    "outputId": "30a5ded6-862f-4322-ae76-c63f1df039c1"
   },
   "outputs": [
    {
     "name": "stdout",
     "output_type": "stream",
     "text": [
      "Requirement already satisfied: lasio in c:\\users\\gbeh\\.conda\\envs\\tf\\lib\\site-packages (0.30)\n",
      "Requirement already satisfied: numpy in c:\\users\\gbeh\\appdata\\roaming\\python\\python39\\site-packages (from lasio) (1.25.1)\n"
     ]
    }
   ],
   "source": [
    "!pip install lasio"
   ]
  },
  {
   "cell_type": "code",
   "execution_count": 3,
   "metadata": {
    "executionInfo": {
     "elapsed": 6,
     "status": "ok",
     "timestamp": 1689346257033,
     "user": {
      "displayName": "кто-то там",
      "userId": "18035495133147418666"
     },
     "user_tz": -300
    },
    "id": "Yifmp5-sfBF5"
   },
   "outputs": [],
   "source": [
    "import numpy as np\n",
    "import pandas as pd\n",
    "import lasio\n",
    "import scipy.fft as scft\n",
    "import scipy.signal as sig\n",
    "import matplotlib.pyplot as plt\n",
    "import sklearn.utils as util\n",
    "import json\n",
    "import seaborn as sns\n",
    "from sklearn.cluster import KMeans\n",
    "import os\n",
    "from random import shuffle\n",
    "import numpy.random as rng"
   ]
  },
  {
   "cell_type": "code",
   "execution_count": 5,
   "metadata": {
    "executionInfo": {
     "elapsed": 5,
     "status": "ok",
     "timestamp": 1689346257033,
     "user": {
      "displayName": "кто-то там",
      "userId": "18035495133147418666"
     },
     "user_tz": -300
    },
    "id": "cI9dmm7sukWZ"
   },
   "outputs": [],
   "source": [
    "def sig_mask_padder (signal, mask, pad_num, split):\n",
    "\n",
    "\n",
    "  tmp_sig = signal\n",
    "  tmp_mask = mask\n",
    "\n",
    "\n",
    "  additional_length = pad_num - len(tmp_sig)\n",
    "  tmp_depadder = np.full_like(tmp_sig, fill_value = 1)\n",
    "\n",
    "  res_sig = np.pad(tmp_sig, (int(additional_length * split), additional_length - int(additional_length * split)), mode = 'constant', constant_values = 1)\n",
    "  res_mask = np.pad(tmp_mask, (int(additional_length * split), additional_length  - int(additional_length * split)))\n",
    "  res_depadder = np.pad(tmp_depadder, (int(additional_length * split), additional_length  - int(additional_length * split)))\n",
    "\n",
    "  return res_sig, res_mask, res_depadder\n"
   ]
  },
  {
   "cell_type": "code",
   "execution_count": 6,
   "metadata": {
    "executionInfo": {
     "elapsed": 6,
     "status": "ok",
     "timestamp": 1689346257034,
     "user": {
      "displayName": "кто-то там",
      "userId": "18035495133147418666"
     },
     "user_tz": -300
    },
    "id": "HOSNjnq7Lc4W"
   },
   "outputs": [],
   "source": [
    "def mod_runn_mean(signal, kernel_size, threshold):\n",
    "  sig_copy = np.pad(signal, (kernel_size//2,kernel_size//2), mode = 'edge')\n",
    "  vout = np.zeros_like(sig_copy)\n",
    "  for i in range(kernel_size//2, len(sig_copy) - kernel_size//2):\n",
    "    if np.abs(sig_copy[i-kernel_size//2:i+kernel_size//2].max() - sig_copy[i-kernel_size//2:i+kernel_size//2].min()) < threshold:\n",
    "      vout[i] = sig_copy[i-kernel_size//2:i+kernel_size//2].sum()/kernel_size\n",
    "    else:\n",
    "      vout[i] = sig_copy[i]\n",
    "  res = vout[kernel_size//2: -kernel_size//2+1]\n",
    "  return res\n"
   ]
  },
  {
   "cell_type": "code",
   "execution_count": 7,
   "metadata": {
    "executionInfo": {
     "elapsed": 6,
     "status": "ok",
     "timestamp": 1689346257034,
     "user": {
      "displayName": "кто-то там",
      "userId": "18035495133147418666"
     },
     "user_tz": -300
    },
    "id": "OEUwXfD4DZFQ"
   },
   "outputs": [],
   "source": [
    "def test_train_shuffler(dataset, mask, depadder, rs):\n",
    "  names = list(dataset[\"curvename\"])\n",
    "  names = util.shuffle(names, random_state = rs)\n",
    "  names = names[:len(names)//5]\n",
    "\n",
    "  dataset_train = dataset.query('curvename not in @names')\n",
    "  dataset_test = dataset.query('curvename in @names')\n",
    "  mask_train = mask.query('curvename not in @names')\n",
    "  mask_test = mask.query('curvename in @names')\n",
    "  depadder_train = depadder.query('curvename not in @names')\n",
    "  depadder_test = depadder.query('curvename in @names')\n",
    "\n",
    "  return dataset_train, mask_train, dataset_test, mask_test, depadder_train, depadder_test\n"
   ]
  },
  {
   "cell_type": "code",
   "execution_count": null,
   "metadata": {
    "id": "iEYbhn6n2Al1"
   },
   "outputs": [],
   "source": []
  },
  {
   "cell_type": "code",
   "execution_count": null,
   "metadata": {
    "id": "GuVNsJCX2BTA"
   },
   "outputs": [],
   "source": []
  },
  {
   "cell_type": "code",
   "execution_count": 8,
   "metadata": {
    "executionInfo": {
     "elapsed": 6,
     "status": "ok",
     "timestamp": 1689346257034,
     "user": {
      "displayName": "кто-то там",
      "userId": "18035495133147418666"
     },
     "user_tz": -300
    },
    "id": "SaZfbcXrSRvv"
   },
   "outputs": [],
   "source": [
    "def baseline_augmentor(curves_dataset, masks_dataset, depadder_dataset):\n",
    "  tmp_curves = np.array(curves_dataset.drop([\"curvename\"], axis = 1))\n",
    "  tmp_masks = np.array(masks_dataset.drop([\"curvename\"], axis = 1))\n",
    "  tmp_depadder = np.array(depadder_dataset.drop([\"curvename\"], axis = 1))\n",
    "  names = list(depadder_dataset[\"curvename\"])\n",
    "  res_names = names\n",
    "\n",
    "  res_curves = tmp_curves\n",
    "  res_masks = tmp_masks\n",
    "  res_depadders = tmp_depadder\n",
    "\n",
    "  pad_num = len(res_curves[0,:])\n",
    "  for i in range(tmp_curves.shape[0]):\n",
    "    aGKnormed = tmp_curves[i,res_depadders[i,:] == 1]\n",
    "    facies_mask = tmp_masks[i, res_depadders[i,:] == 1]\n",
    "\n",
    "    # код повторяется в связи с тем что передача функций довольно медленная, а этот участок сам по себе не быстрый\n",
    "\n",
    "    res_names.append(names[i])\n",
    "    curr_split = float(rng.uniform(0.1, 0.9))\n",
    "    res_sig, res_mask, res_depadder = sig_mask_padder(sig.savgol_filter(aGKnormed,7,1), facies_mask, pad_num, split = curr_split)\n",
    "    res_sig = res_sig + np.random.normal(0, 0.05, size = pad_num)\n",
    "    res_curves = np.vstack((res_curves, res_sig))\n",
    "    res_masks = np.vstack((res_masks, res_mask))\n",
    "    res_depadders = np.vstack((res_depadders, res_depadder))\n",
    "\n",
    "    res_names.append(names[i])\n",
    "    curr_split = float(rng.uniform(0.1, 0.9))\n",
    "    res_sig, res_mask, res_depadder = sig_mask_padder(sig.savgol_filter(aGKnormed,7,1), facies_mask, pad_num, split = curr_split)\n",
    "    res_sig = res_sig + np.random.normal(0, 0.03, size = pad_num)\n",
    "    res_curves = np.vstack((res_curves, res_sig))\n",
    "    res_masks = np.vstack((res_masks, res_mask))\n",
    "    res_depadders = np.vstack((res_depadders, res_depadder))\n",
    "\n",
    "    res_names.append(names[i])\n",
    "    curr_split = float(rng.uniform(0.1, 0.9))\n",
    "    res_sig, res_mask, res_depadder = sig_mask_padder(sig.savgol_filter(aGKnormed,3,1), facies_mask, pad_num, split = curr_split)\n",
    "    res_sig = res_sig + np.random.normal(0, 0.06, size = pad_num)\n",
    "    res_curves = np.vstack((res_curves, res_sig))\n",
    "    res_masks = np.vstack((res_masks, res_mask))\n",
    "    res_depadders = np.vstack((res_depadders, res_depadder))\n",
    "\n",
    "\n",
    "  return res_curves, res_masks, res_depadders, res_names\n",
    "\n"
   ]
  },
  {
   "cell_type": "code",
   "execution_count": null,
   "metadata": {
    "id": "Oyxd14okJNtz"
   },
   "outputs": [],
   "source": [
    "\n",
    "\n"
   ]
  },
  {
   "cell_type": "code",
   "execution_count": 13,
   "metadata": {
    "executionInfo": {
     "elapsed": 6,
     "status": "ok",
     "timestamp": 1689346257035,
     "user": {
      "displayName": "кто-то там",
      "userId": "18035495133147418666"
     },
     "user_tz": -300
    },
    "id": "NmJRXQWJwaXc"
   },
   "outputs": [],
   "source": [
    "def dataset_gen (deposit_names: list, path: str, pad_num : int):\n",
    "  dataset_curves = np.zeros((pad_num ))\n",
    "  dataset_masks = np.zeros((pad_num ))\n",
    "  dataset_depadder = np.zeros((pad_num ))\n",
    "  dataset_index = 0\n",
    "  curve_names = []\n",
    "  rng = np.random.default_rng()\n",
    "  for deposit in deposit_names:\n",
    "    files_for_walk = os.listdir(f'{path}/{deposit}')\n",
    "    curves = list(filter(lambda f : '.las' in f, files_for_walk))\n",
    "    counter = 0\n",
    "    for curve in curves:\n",
    "        \n",
    "      \n",
    "      current_curve = lasio.read(f\"{path}/{deposit}/{curve}\")\n",
    "      curve_df = current_curve.df()\n",
    "      curve_names.append(f\"{counter}_{deposit}\")\n",
    "      counter += 1\n",
    "\n",
    "      facies_mask = np.zeros( (len(curve_df[\"FACIES_CLASSES\"])) )\n",
    "      facies_mask[curve_df[\"FACIES_CLASSES\"] == 1] = 1\n",
    "      facies_mask[curve_df[\"FACIES_CLASSES\"] == 2] = 2\n",
    "      facies_mask[curve_df[\"FACIES_CLASSES\"] == 3] = 0\n",
    "      aGKnormed = curve_df[current_curve.keys()[1]]\n",
    "      sand_level = curve_df[\"SAND_LEVEL\"]\n",
    "      clay_level = curve_df[\"CLAY_LEVEL\"]\n",
    "\n",
    "\n",
    "      sand_clay_mean = (sand_level + clay_level) / 2\n",
    "      map_coef = sand_level - sand_clay_mean\n",
    "\n",
    "      aGKnormed = (aGKnormed - sand_clay_mean) / map_coef\n",
    "\n",
    "\n",
    "      randnum = (rng.random() + 0.1)/1.3\n",
    "      res_sig, res_mask, res_depadder = sig_mask_padder(aGKnormed, facies_mask, pad_num, split = randnum)\n",
    "      dataset_curves = np.vstack((dataset_curves, res_sig))\n",
    "      dataset_masks = np.vstack((dataset_masks, res_mask))\n",
    "      dataset_depadder = np.vstack((dataset_depadder, res_depadder))\n",
    "\n",
    "\n",
    "\n",
    "  return dataset_curves[1:], dataset_masks[1:], dataset_depadder[1:],  curve_names"
   ]
  },
  {
   "cell_type": "code",
   "execution_count": 14,
   "metadata": {
    "executionInfo": {
     "elapsed": 415,
     "status": "ok",
     "timestamp": 1689346257775,
     "user": {
      "displayName": "кто-то там",
      "userId": "18035495133147418666"
     },
     "user_tz": -300
    },
    "id": "Kni95FV1CdgG"
   },
   "outputs": [],
   "source": [
    "deposit_names = ['il_mod', 'k', 'p']"
   ]
  },
  {
   "cell_type": "code",
   "execution_count": 15,
   "metadata": {
    "executionInfo": {
     "elapsed": 2416,
     "status": "ok",
     "timestamp": 1689346261758,
     "user": {
      "displayName": "кто-то там",
      "userId": "18035495133147418666"
     },
     "user_tz": -300
    },
    "id": "vIpTAsriGHqU"
   },
   "outputs": [],
   "source": [
    "dataset_of_nonaugmented_curves, dataset_of_nonaugmented_masks, dataset_of_nonaug_depadder, curve_names = dataset_gen(deposit_names, 'LasCurves', 1000)\n",
    "dataframe_of_nonaugmented_curves = pd.DataFrame(dataset_of_nonaugmented_curves)\n",
    "dataframe_of_nonaugmented_curves[\"curvename\"] = curve_names\n",
    "\n",
    "dataframe_of_nonaugmented_masks = pd.DataFrame(dataset_of_nonaugmented_masks)\n",
    "dataframe_of_nonaugmented_masks[\"curvename\"] = curve_names\n",
    "\n",
    "dataframe_of_nonaug_depadder = pd.DataFrame(dataset_of_nonaug_depadder)\n",
    "dataframe_of_nonaug_depadder[\"curvename\"] = curve_names"
   ]
  },
  {
   "cell_type": "code",
   "execution_count": 16,
   "metadata": {
    "executionInfo": {
     "elapsed": 2031,
     "status": "ok",
     "timestamp": 1689346267526,
     "user": {
      "displayName": "кто-то там",
      "userId": "18035495133147418666"
     },
     "user_tz": -300
    },
    "id": "Hy77izNnztTg"
   },
   "outputs": [],
   "source": [
    "X_train, y_train, X_test, y_test, depadder_train, depadder_test  = test_train_shuffler(dataframe_of_nonaugmented_curves, dataframe_of_nonaugmented_masks, dataframe_of_nonaug_depadder, 13)\n",
    "X_train_aug, y_train_aug, depadder_train_aug, res_names = baseline_augmentor(X_train, y_train, depadder_train)\n",
    "X_train_aug, y_train_aug, depadder_train_aug = pd.DataFrame(X_train_aug), pd.DataFrame(y_train_aug), pd.DataFrame(depadder_train_aug)\n",
    "X_train_aug[\"curvename\"], y_train_aug[\"curvename\"], depadder_train_aug[\"curvename\"] = res_names, res_names, res_names"
   ]
  },
  {
   "cell_type": "code",
   "execution_count": 17,
   "metadata": {
    "colab": {
     "base_uri": "https://localhost:8080/",
     "height": 580
    },
    "executionInfo": {
     "elapsed": 268,
     "status": "ok",
     "timestamp": 1689346269474,
     "user": {
      "displayName": "кто-то там",
      "userId": "18035495133147418666"
     },
     "user_tz": -300
    },
    "id": "xy0i5n2v7k8P",
    "outputId": "af449e86-98eb-4e60-9a2c-8b6d6acfda63"
   },
   "outputs": [
    {
     "data": {
      "text/html": [
       "<div>\n",
       "<style scoped>\n",
       "    .dataframe tbody tr th:only-of-type {\n",
       "        vertical-align: middle;\n",
       "    }\n",
       "\n",
       "    .dataframe tbody tr th {\n",
       "        vertical-align: top;\n",
       "    }\n",
       "\n",
       "    .dataframe thead th {\n",
       "        text-align: right;\n",
       "    }\n",
       "</style>\n",
       "<table border=\"1\" class=\"dataframe\">\n",
       "  <thead>\n",
       "    <tr style=\"text-align: right;\">\n",
       "      <th></th>\n",
       "      <th>0</th>\n",
       "      <th>1</th>\n",
       "      <th>2</th>\n",
       "      <th>3</th>\n",
       "      <th>4</th>\n",
       "      <th>5</th>\n",
       "      <th>6</th>\n",
       "      <th>7</th>\n",
       "      <th>8</th>\n",
       "      <th>9</th>\n",
       "      <th>...</th>\n",
       "      <th>991</th>\n",
       "      <th>992</th>\n",
       "      <th>993</th>\n",
       "      <th>994</th>\n",
       "      <th>995</th>\n",
       "      <th>996</th>\n",
       "      <th>997</th>\n",
       "      <th>998</th>\n",
       "      <th>999</th>\n",
       "      <th>curvename</th>\n",
       "    </tr>\n",
       "  </thead>\n",
       "  <tbody>\n",
       "    <tr>\n",
       "      <th>4</th>\n",
       "      <td>1.0</td>\n",
       "      <td>1.0</td>\n",
       "      <td>1.0</td>\n",
       "      <td>1.0</td>\n",
       "      <td>1.0</td>\n",
       "      <td>1.0</td>\n",
       "      <td>1.0</td>\n",
       "      <td>1.0</td>\n",
       "      <td>1.0</td>\n",
       "      <td>1.0</td>\n",
       "      <td>...</td>\n",
       "      <td>1.0</td>\n",
       "      <td>1.0</td>\n",
       "      <td>1.0</td>\n",
       "      <td>1.0</td>\n",
       "      <td>1.0</td>\n",
       "      <td>1.0</td>\n",
       "      <td>1.0</td>\n",
       "      <td>1.0</td>\n",
       "      <td>1.0</td>\n",
       "      <td>4_il_mod</td>\n",
       "    </tr>\n",
       "    <tr>\n",
       "      <th>14</th>\n",
       "      <td>1.0</td>\n",
       "      <td>1.0</td>\n",
       "      <td>1.0</td>\n",
       "      <td>1.0</td>\n",
       "      <td>1.0</td>\n",
       "      <td>1.0</td>\n",
       "      <td>1.0</td>\n",
       "      <td>1.0</td>\n",
       "      <td>1.0</td>\n",
       "      <td>1.0</td>\n",
       "      <td>...</td>\n",
       "      <td>1.0</td>\n",
       "      <td>1.0</td>\n",
       "      <td>1.0</td>\n",
       "      <td>1.0</td>\n",
       "      <td>1.0</td>\n",
       "      <td>1.0</td>\n",
       "      <td>1.0</td>\n",
       "      <td>1.0</td>\n",
       "      <td>1.0</td>\n",
       "      <td>3_k</td>\n",
       "    </tr>\n",
       "    <tr>\n",
       "      <th>27</th>\n",
       "      <td>1.0</td>\n",
       "      <td>1.0</td>\n",
       "      <td>1.0</td>\n",
       "      <td>1.0</td>\n",
       "      <td>1.0</td>\n",
       "      <td>1.0</td>\n",
       "      <td>1.0</td>\n",
       "      <td>1.0</td>\n",
       "      <td>1.0</td>\n",
       "      <td>1.0</td>\n",
       "      <td>...</td>\n",
       "      <td>1.0</td>\n",
       "      <td>1.0</td>\n",
       "      <td>1.0</td>\n",
       "      <td>1.0</td>\n",
       "      <td>1.0</td>\n",
       "      <td>1.0</td>\n",
       "      <td>1.0</td>\n",
       "      <td>1.0</td>\n",
       "      <td>1.0</td>\n",
       "      <td>16_k</td>\n",
       "    </tr>\n",
       "    <tr>\n",
       "      <th>29</th>\n",
       "      <td>1.0</td>\n",
       "      <td>1.0</td>\n",
       "      <td>1.0</td>\n",
       "      <td>1.0</td>\n",
       "      <td>1.0</td>\n",
       "      <td>1.0</td>\n",
       "      <td>1.0</td>\n",
       "      <td>1.0</td>\n",
       "      <td>1.0</td>\n",
       "      <td>1.0</td>\n",
       "      <td>...</td>\n",
       "      <td>1.0</td>\n",
       "      <td>1.0</td>\n",
       "      <td>1.0</td>\n",
       "      <td>1.0</td>\n",
       "      <td>1.0</td>\n",
       "      <td>1.0</td>\n",
       "      <td>1.0</td>\n",
       "      <td>1.0</td>\n",
       "      <td>1.0</td>\n",
       "      <td>18_k</td>\n",
       "    </tr>\n",
       "    <tr>\n",
       "      <th>37</th>\n",
       "      <td>1.0</td>\n",
       "      <td>1.0</td>\n",
       "      <td>1.0</td>\n",
       "      <td>1.0</td>\n",
       "      <td>1.0</td>\n",
       "      <td>1.0</td>\n",
       "      <td>1.0</td>\n",
       "      <td>1.0</td>\n",
       "      <td>1.0</td>\n",
       "      <td>1.0</td>\n",
       "      <td>...</td>\n",
       "      <td>1.0</td>\n",
       "      <td>1.0</td>\n",
       "      <td>1.0</td>\n",
       "      <td>1.0</td>\n",
       "      <td>1.0</td>\n",
       "      <td>1.0</td>\n",
       "      <td>1.0</td>\n",
       "      <td>1.0</td>\n",
       "      <td>1.0</td>\n",
       "      <td>26_k</td>\n",
       "    </tr>\n",
       "    <tr>\n",
       "      <th>41</th>\n",
       "      <td>1.0</td>\n",
       "      <td>1.0</td>\n",
       "      <td>1.0</td>\n",
       "      <td>1.0</td>\n",
       "      <td>1.0</td>\n",
       "      <td>1.0</td>\n",
       "      <td>1.0</td>\n",
       "      <td>1.0</td>\n",
       "      <td>1.0</td>\n",
       "      <td>1.0</td>\n",
       "      <td>...</td>\n",
       "      <td>1.0</td>\n",
       "      <td>1.0</td>\n",
       "      <td>1.0</td>\n",
       "      <td>1.0</td>\n",
       "      <td>1.0</td>\n",
       "      <td>1.0</td>\n",
       "      <td>1.0</td>\n",
       "      <td>1.0</td>\n",
       "      <td>1.0</td>\n",
       "      <td>30_k</td>\n",
       "    </tr>\n",
       "    <tr>\n",
       "      <th>44</th>\n",
       "      <td>1.0</td>\n",
       "      <td>1.0</td>\n",
       "      <td>1.0</td>\n",
       "      <td>1.0</td>\n",
       "      <td>1.0</td>\n",
       "      <td>1.0</td>\n",
       "      <td>1.0</td>\n",
       "      <td>1.0</td>\n",
       "      <td>1.0</td>\n",
       "      <td>1.0</td>\n",
       "      <td>...</td>\n",
       "      <td>1.0</td>\n",
       "      <td>1.0</td>\n",
       "      <td>1.0</td>\n",
       "      <td>1.0</td>\n",
       "      <td>1.0</td>\n",
       "      <td>1.0</td>\n",
       "      <td>1.0</td>\n",
       "      <td>1.0</td>\n",
       "      <td>1.0</td>\n",
       "      <td>1_p</td>\n",
       "    </tr>\n",
       "    <tr>\n",
       "      <th>47</th>\n",
       "      <td>1.0</td>\n",
       "      <td>1.0</td>\n",
       "      <td>1.0</td>\n",
       "      <td>1.0</td>\n",
       "      <td>1.0</td>\n",
       "      <td>1.0</td>\n",
       "      <td>1.0</td>\n",
       "      <td>1.0</td>\n",
       "      <td>1.0</td>\n",
       "      <td>1.0</td>\n",
       "      <td>...</td>\n",
       "      <td>1.0</td>\n",
       "      <td>1.0</td>\n",
       "      <td>1.0</td>\n",
       "      <td>1.0</td>\n",
       "      <td>1.0</td>\n",
       "      <td>1.0</td>\n",
       "      <td>1.0</td>\n",
       "      <td>1.0</td>\n",
       "      <td>1.0</td>\n",
       "      <td>4_p</td>\n",
       "    </tr>\n",
       "    <tr>\n",
       "      <th>56</th>\n",
       "      <td>1.0</td>\n",
       "      <td>1.0</td>\n",
       "      <td>1.0</td>\n",
       "      <td>1.0</td>\n",
       "      <td>1.0</td>\n",
       "      <td>1.0</td>\n",
       "      <td>1.0</td>\n",
       "      <td>1.0</td>\n",
       "      <td>1.0</td>\n",
       "      <td>1.0</td>\n",
       "      <td>...</td>\n",
       "      <td>1.0</td>\n",
       "      <td>1.0</td>\n",
       "      <td>1.0</td>\n",
       "      <td>1.0</td>\n",
       "      <td>1.0</td>\n",
       "      <td>1.0</td>\n",
       "      <td>1.0</td>\n",
       "      <td>1.0</td>\n",
       "      <td>1.0</td>\n",
       "      <td>13_p</td>\n",
       "    </tr>\n",
       "    <tr>\n",
       "      <th>60</th>\n",
       "      <td>1.0</td>\n",
       "      <td>1.0</td>\n",
       "      <td>1.0</td>\n",
       "      <td>1.0</td>\n",
       "      <td>1.0</td>\n",
       "      <td>1.0</td>\n",
       "      <td>1.0</td>\n",
       "      <td>1.0</td>\n",
       "      <td>1.0</td>\n",
       "      <td>1.0</td>\n",
       "      <td>...</td>\n",
       "      <td>1.0</td>\n",
       "      <td>1.0</td>\n",
       "      <td>1.0</td>\n",
       "      <td>1.0</td>\n",
       "      <td>1.0</td>\n",
       "      <td>1.0</td>\n",
       "      <td>1.0</td>\n",
       "      <td>1.0</td>\n",
       "      <td>1.0</td>\n",
       "      <td>17_p</td>\n",
       "    </tr>\n",
       "    <tr>\n",
       "      <th>63</th>\n",
       "      <td>1.0</td>\n",
       "      <td>1.0</td>\n",
       "      <td>1.0</td>\n",
       "      <td>1.0</td>\n",
       "      <td>1.0</td>\n",
       "      <td>1.0</td>\n",
       "      <td>1.0</td>\n",
       "      <td>1.0</td>\n",
       "      <td>1.0</td>\n",
       "      <td>1.0</td>\n",
       "      <td>...</td>\n",
       "      <td>1.0</td>\n",
       "      <td>1.0</td>\n",
       "      <td>1.0</td>\n",
       "      <td>1.0</td>\n",
       "      <td>1.0</td>\n",
       "      <td>1.0</td>\n",
       "      <td>1.0</td>\n",
       "      <td>1.0</td>\n",
       "      <td>1.0</td>\n",
       "      <td>20_p</td>\n",
       "    </tr>\n",
       "    <tr>\n",
       "      <th>69</th>\n",
       "      <td>1.0</td>\n",
       "      <td>1.0</td>\n",
       "      <td>1.0</td>\n",
       "      <td>1.0</td>\n",
       "      <td>1.0</td>\n",
       "      <td>1.0</td>\n",
       "      <td>1.0</td>\n",
       "      <td>1.0</td>\n",
       "      <td>1.0</td>\n",
       "      <td>1.0</td>\n",
       "      <td>...</td>\n",
       "      <td>1.0</td>\n",
       "      <td>1.0</td>\n",
       "      <td>1.0</td>\n",
       "      <td>1.0</td>\n",
       "      <td>1.0</td>\n",
       "      <td>1.0</td>\n",
       "      <td>1.0</td>\n",
       "      <td>1.0</td>\n",
       "      <td>1.0</td>\n",
       "      <td>26_p</td>\n",
       "    </tr>\n",
       "    <tr>\n",
       "      <th>72</th>\n",
       "      <td>1.0</td>\n",
       "      <td>1.0</td>\n",
       "      <td>1.0</td>\n",
       "      <td>1.0</td>\n",
       "      <td>1.0</td>\n",
       "      <td>1.0</td>\n",
       "      <td>1.0</td>\n",
       "      <td>1.0</td>\n",
       "      <td>1.0</td>\n",
       "      <td>1.0</td>\n",
       "      <td>...</td>\n",
       "      <td>1.0</td>\n",
       "      <td>1.0</td>\n",
       "      <td>1.0</td>\n",
       "      <td>1.0</td>\n",
       "      <td>1.0</td>\n",
       "      <td>1.0</td>\n",
       "      <td>1.0</td>\n",
       "      <td>1.0</td>\n",
       "      <td>1.0</td>\n",
       "      <td>29_p</td>\n",
       "    </tr>\n",
       "    <tr>\n",
       "      <th>75</th>\n",
       "      <td>1.0</td>\n",
       "      <td>1.0</td>\n",
       "      <td>1.0</td>\n",
       "      <td>1.0</td>\n",
       "      <td>1.0</td>\n",
       "      <td>1.0</td>\n",
       "      <td>1.0</td>\n",
       "      <td>1.0</td>\n",
       "      <td>1.0</td>\n",
       "      <td>1.0</td>\n",
       "      <td>...</td>\n",
       "      <td>1.0</td>\n",
       "      <td>1.0</td>\n",
       "      <td>1.0</td>\n",
       "      <td>1.0</td>\n",
       "      <td>1.0</td>\n",
       "      <td>1.0</td>\n",
       "      <td>1.0</td>\n",
       "      <td>1.0</td>\n",
       "      <td>1.0</td>\n",
       "      <td>32_p</td>\n",
       "    </tr>\n",
       "    <tr>\n",
       "      <th>76</th>\n",
       "      <td>1.0</td>\n",
       "      <td>1.0</td>\n",
       "      <td>1.0</td>\n",
       "      <td>1.0</td>\n",
       "      <td>1.0</td>\n",
       "      <td>1.0</td>\n",
       "      <td>1.0</td>\n",
       "      <td>1.0</td>\n",
       "      <td>1.0</td>\n",
       "      <td>1.0</td>\n",
       "      <td>...</td>\n",
       "      <td>1.0</td>\n",
       "      <td>1.0</td>\n",
       "      <td>1.0</td>\n",
       "      <td>1.0</td>\n",
       "      <td>1.0</td>\n",
       "      <td>1.0</td>\n",
       "      <td>1.0</td>\n",
       "      <td>1.0</td>\n",
       "      <td>1.0</td>\n",
       "      <td>33_p</td>\n",
       "    </tr>\n",
       "    <tr>\n",
       "      <th>78</th>\n",
       "      <td>1.0</td>\n",
       "      <td>1.0</td>\n",
       "      <td>1.0</td>\n",
       "      <td>1.0</td>\n",
       "      <td>1.0</td>\n",
       "      <td>1.0</td>\n",
       "      <td>1.0</td>\n",
       "      <td>1.0</td>\n",
       "      <td>1.0</td>\n",
       "      <td>1.0</td>\n",
       "      <td>...</td>\n",
       "      <td>1.0</td>\n",
       "      <td>1.0</td>\n",
       "      <td>1.0</td>\n",
       "      <td>1.0</td>\n",
       "      <td>1.0</td>\n",
       "      <td>1.0</td>\n",
       "      <td>1.0</td>\n",
       "      <td>1.0</td>\n",
       "      <td>1.0</td>\n",
       "      <td>35_p</td>\n",
       "    </tr>\n",
       "  </tbody>\n",
       "</table>\n",
       "<p>16 rows × 1001 columns</p>\n",
       "</div>"
      ],
      "text/plain": [
       "      0    1    2    3    4    5    6    7    8    9  ...  991  992  993  994  \\\n",
       "4   1.0  1.0  1.0  1.0  1.0  1.0  1.0  1.0  1.0  1.0  ...  1.0  1.0  1.0  1.0   \n",
       "14  1.0  1.0  1.0  1.0  1.0  1.0  1.0  1.0  1.0  1.0  ...  1.0  1.0  1.0  1.0   \n",
       "27  1.0  1.0  1.0  1.0  1.0  1.0  1.0  1.0  1.0  1.0  ...  1.0  1.0  1.0  1.0   \n",
       "29  1.0  1.0  1.0  1.0  1.0  1.0  1.0  1.0  1.0  1.0  ...  1.0  1.0  1.0  1.0   \n",
       "37  1.0  1.0  1.0  1.0  1.0  1.0  1.0  1.0  1.0  1.0  ...  1.0  1.0  1.0  1.0   \n",
       "41  1.0  1.0  1.0  1.0  1.0  1.0  1.0  1.0  1.0  1.0  ...  1.0  1.0  1.0  1.0   \n",
       "44  1.0  1.0  1.0  1.0  1.0  1.0  1.0  1.0  1.0  1.0  ...  1.0  1.0  1.0  1.0   \n",
       "47  1.0  1.0  1.0  1.0  1.0  1.0  1.0  1.0  1.0  1.0  ...  1.0  1.0  1.0  1.0   \n",
       "56  1.0  1.0  1.0  1.0  1.0  1.0  1.0  1.0  1.0  1.0  ...  1.0  1.0  1.0  1.0   \n",
       "60  1.0  1.0  1.0  1.0  1.0  1.0  1.0  1.0  1.0  1.0  ...  1.0  1.0  1.0  1.0   \n",
       "63  1.0  1.0  1.0  1.0  1.0  1.0  1.0  1.0  1.0  1.0  ...  1.0  1.0  1.0  1.0   \n",
       "69  1.0  1.0  1.0  1.0  1.0  1.0  1.0  1.0  1.0  1.0  ...  1.0  1.0  1.0  1.0   \n",
       "72  1.0  1.0  1.0  1.0  1.0  1.0  1.0  1.0  1.0  1.0  ...  1.0  1.0  1.0  1.0   \n",
       "75  1.0  1.0  1.0  1.0  1.0  1.0  1.0  1.0  1.0  1.0  ...  1.0  1.0  1.0  1.0   \n",
       "76  1.0  1.0  1.0  1.0  1.0  1.0  1.0  1.0  1.0  1.0  ...  1.0  1.0  1.0  1.0   \n",
       "78  1.0  1.0  1.0  1.0  1.0  1.0  1.0  1.0  1.0  1.0  ...  1.0  1.0  1.0  1.0   \n",
       "\n",
       "    995  996  997  998  999  curvename  \n",
       "4   1.0  1.0  1.0  1.0  1.0   4_il_mod  \n",
       "14  1.0  1.0  1.0  1.0  1.0        3_k  \n",
       "27  1.0  1.0  1.0  1.0  1.0       16_k  \n",
       "29  1.0  1.0  1.0  1.0  1.0       18_k  \n",
       "37  1.0  1.0  1.0  1.0  1.0       26_k  \n",
       "41  1.0  1.0  1.0  1.0  1.0       30_k  \n",
       "44  1.0  1.0  1.0  1.0  1.0        1_p  \n",
       "47  1.0  1.0  1.0  1.0  1.0        4_p  \n",
       "56  1.0  1.0  1.0  1.0  1.0       13_p  \n",
       "60  1.0  1.0  1.0  1.0  1.0       17_p  \n",
       "63  1.0  1.0  1.0  1.0  1.0       20_p  \n",
       "69  1.0  1.0  1.0  1.0  1.0       26_p  \n",
       "72  1.0  1.0  1.0  1.0  1.0       29_p  \n",
       "75  1.0  1.0  1.0  1.0  1.0       32_p  \n",
       "76  1.0  1.0  1.0  1.0  1.0       33_p  \n",
       "78  1.0  1.0  1.0  1.0  1.0       35_p  \n",
       "\n",
       "[16 rows x 1001 columns]"
      ]
     },
     "execution_count": 17,
     "metadata": {},
     "output_type": "execute_result"
    }
   ],
   "source": [
    "X_test"
   ]
  },
  {
   "cell_type": "code",
   "execution_count": 18,
   "metadata": {
    "colab": {
     "base_uri": "https://localhost:8080/",
     "height": 447
    },
    "executionInfo": {
     "elapsed": 815,
     "status": "ok",
     "timestamp": 1689344882495,
     "user": {
      "displayName": "кто-то там",
      "userId": "18035495133147418666"
     },
     "user_tz": -300
    },
    "id": "of1lJwBAefdA",
    "outputId": "84fb6731-77df-44ac-d693-244e151a0e8c"
   },
   "outputs": [
    {
     "data": {
      "text/plain": [
       "[<matplotlib.lines.Line2D at 0x24d8e8f6bb0>]"
      ]
     },
     "execution_count": 18,
     "metadata": {},
     "output_type": "execute_result"
    },
    {
     "data": {
      "image/png": "[encoded data removed]",
      "text/plain": [
       "<Figure size 640x480 with 1 Axes>"
      ]
     },
     "metadata": {},
     "output_type": "display_data"
    }
   ],
   "source": [
    "plt.plot(X_train.drop([\"curvename\"], axis = 1).iloc[6])"
   ]
  },
  {
   "cell_type": "code",
   "execution_count": null,
   "metadata": {
    "id": "OmZw8py1L9k7"
   },
   "outputs": [],
   "source": []
  },
  {
   "cell_type": "code",
   "execution_count": 20,
   "metadata": {
    "id": "TOWCXvNQrKlJ"
   },
   "outputs": [],
   "source": [
    "X_train_aug.to_csv(\"DatasetForPetroCNN/X_train.csv\")\n",
    "y_train_aug.to_csv(\"DatasetForPetroCNN/y_train.csv\")\n",
    "X_test.to_csv(\"DatasetForPetroCNN/X_test.csv\")\n",
    "y_test.to_csv(\"DatasetForPetroCNN/y_test.csv\")\n",
    "dataframe_of_nonaugmented_curves.to_csv(\"DatasetForPetroCNN/curves.csv\")\n",
    "dataframe_of_nonaugmented_masks.to_csv(\"DatasetForPetroCNN/real_masks.csv\")\n",
    "dataframe_of_nonaug_depadder.to_csv(\"DatasetForPetroCNN/depadder.csv\")\n",
    "##"
   ]
  },
  {
   "cell_type": "code",
   "execution_count": null,
   "metadata": {
    "id": "1zjidpVMfHGT"
   },
   "outputs": [],
   "source": []
  },
  {
   "cell_type": "code",
   "execution_count": 21,
   "metadata": {
    "colab": {
     "base_uri": "https://localhost:8080/",
     "height": 447
    },
    "executionInfo": {
     "elapsed": 672,
     "status": "ok",
     "timestamp": 1689344895501,
     "user": {
      "displayName": "кто-то там",
      "userId": "18035495133147418666"
     },
     "user_tz": -300
    },
    "id": "L1k8I1-I-oZK",
    "outputId": "cb0ef247-6566-4a74-8255-cb11a7c3eb7a"
   },
   "outputs": [
    {
     "data": {
      "text/plain": [
       "[<matplotlib.lines.Line2D at 0x24d92545880>]"
      ]
     },
     "execution_count": 21,
     "metadata": {},
     "output_type": "execute_result"
    },
    {
     "data": {
      "image/png": "[encoded data removed]",
      "text/plain": [
       "<Figure size 640x480 with 1 Axes>"
      ]
     },
     "metadata": {},
     "output_type": "display_data"
    }
   ],
   "source": [
    "testcurve = dataframe_of_nonaugmented_curves.drop([\"curvename\"], axis = 1).iloc[5]\n",
    "respective_depadder =  dataframe_of_nonaug_depadder.drop([\"curvename\"], axis = 1).iloc[5]\n",
    "plt.plot(testcurve)"
   ]
  },
  {
   "cell_type": "code",
   "execution_count": null,
   "metadata": {},
   "outputs": [],
   "source": []
  }
 ],
 "metadata": {
  "colab": {
   "authorship_tag": "ABX9TyMHXz9uWgYhWQ767BYHmiIT",
   "mount_file_id": "1NqQ50-eXrfabnK4H8f_w2pNqJokSO7wz",
   "provenance": []
  },
  "gpuClass": "standard",
  "kernelspec": {
   "display_name": "Python 3 (ipykernel)",
   "language": "python",
   "name": "python3"
  },
  "language_info": {
   "codemirror_mode": {
    "name": "ipython",
    "version": 3
   },
   "file_extension": ".py",
   "mimetype": "text/x-python",
   "name": "python",
   "nbconvert_exporter": "python",
   "pygments_lexer": "ipython3",
   "version": "3.9.7"
  }
 },
 "nbformat": 4,
 "nbformat_minor": 1
}
