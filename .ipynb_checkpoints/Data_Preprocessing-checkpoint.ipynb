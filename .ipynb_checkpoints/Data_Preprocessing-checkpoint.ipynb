{
 "cells": [
  {
   "cell_type": "code",
   "execution_count": 37,
   "metadata": {
    "executionInfo": {
     "elapsed": 272,
     "status": "ok",
     "timestamp": 1689346311944,
     "user": {
      "displayName": "кто-то там",
      "userId": "18035495133147418666"
     },
     "user_tz": -300
    },
    "id": "0OBO1FHRbxdY"
   },
   "outputs": [],
   "source": [
    "\n",
    "bounds_k = {}\n",
    "\n",
    "bounds_p = {}\n",
    "\n",
    "bounds_il = {}\n",
    "#эти данные ну точно конфиденциальные, это своего рода json который содержит информацию о нефтяных скважинах\n"
   ]
  },
  {
   "cell_type": "code",
   "execution_count": 2,
   "metadata": {
    "colab": {
     "base_uri": "https://localhost:8080/"
    },
    "executionInfo": {
     "elapsed": 6175,
     "status": "ok",
     "timestamp": 1689346323459,
     "user": {
      "displayName": "кто-то там",
      "userId": "18035495133147418666"
     },
     "user_tz": -300
    },
    "id": "05THxFwTb_Ut",
    "outputId": "a0f0e99c-2a4c-4ece-fa97-460699732b3f"
   },
   "outputs": [
    {
     "name": "stdout",
     "output_type": "stream",
     "text": [
      "Requirement already satisfied: lasio in c:\\users\\gbeh\\.conda\\envs\\tf\\lib\\site-packages (0.30)\n",
      "Requirement already satisfied: numpy in c:\\users\\gbeh\\appdata\\roaming\\python\\python39\\site-packages (from lasio) (1.25.1)\n"
     ]
    }
   ],
   "source": [
    "!pip install lasio"
   ]
  },
  {
   "cell_type": "code",
   "execution_count": 3,
   "metadata": {
    "executionInfo": {
     "elapsed": 4,
     "status": "ok",
     "timestamp": 1689346323459,
     "user": {
      "displayName": "кто-то там",
      "userId": "18035495133147418666"
     },
     "user_tz": -300
    },
    "id": "V8Iu4dOKb1I_"
   },
   "outputs": [],
   "source": [
    "import lasio\n",
    "import numpy as np\n",
    "import pandas as pd\n",
    "from sklearn.cluster import KMeans\n",
    "import matplotlib.pyplot as plt\n",
    "import scipy.signal as sig\n",
    "import os"
   ]
  },
  {
   "cell_type": "code",
   "execution_count": 4,
   "metadata": {
    "executionInfo": {
     "elapsed": 63686,
     "status": "ok",
     "timestamp": 1689346387142,
     "user": {
      "displayName": "кто-то там",
      "userId": "18035495133147418666"
     },
     "user_tz": -300
    },
    "id": "XCcf2TUMb1HH"
   },
   "outputs": [],
   "source": [
    "bounds = {\"il\":bounds_il,\"k\":bounds_k,\"p\":bounds_p}\n",
    "\n",
    "\n",
    "\n",
    "folder_names = (\"il\", \"k\", \"p\")\n",
    "\n",
    "for folder_name in folder_names:\n",
    "    for curve in bounds[folder_name]:\n",
    "        my_curve = lasio.read(f'LasCurvesRaw/{folder_name}/{curve}.las')\n",
    "\n",
    "        curve_df = my_curve.df().reset_index()\n",
    "        curve_df[my_curve.keys()[1]] = curve_df[my_curve.keys()[1]].fillna(method = 'bfill')\n",
    "        curve_df[my_curve.keys()[1]] = (curve_df[my_curve.keys()[1]] - curve_df[my_curve.keys()[1]].min()) / (curve_df[my_curve.keys()[1]].max() - curve_df[my_curve.keys()[1]].min())\n",
    "        curve_df[\"FACIES_CLASS\"] = np.zeros_like(np.array(curve_df[\"DEPTH\"]))\n",
    "        fac_class = np.zeros_like(np.array(curve_df[\"DEPTH\"]))\n",
    "        curve_for_agg = curve_df[my_curve.keys()[1]]\n",
    "        dummy_var = np.zeros((len(curve_for_agg)))\n",
    "\n",
    "        curve_for_clustering = np.vstack((curve_for_agg,dummy_var))\n",
    "        curve_for_clustering = curve_for_clustering.T\n",
    "\n",
    "        #НЕ ЗАПУСКАТЬ НА ВИНДЕ - DATALEAK, вылетатает warning\n",
    "        kmeans = KMeans(n_clusters = 2, n_init = 10).fit(curve_for_clustering)\n",
    "\n",
    "        clay_level, sand_level = max(kmeans.cluster_centers_[0,0],kmeans.cluster_centers_[1,0]), min(kmeans.cluster_centers_[0,0],kmeans.cluster_centers_[1,0])\n",
    "\n",
    "        clay_lvlplot = np.full((len(curve_for_agg)), clay_level)\n",
    "        sand_lvlplot = np.full((len(curve_for_agg)), sand_level)\n",
    "\n",
    "        curve_df[\"CLAY_LEVEL\"] = clay_lvlplot\n",
    "        curve_df[\"SAND_LEVEL\"] = sand_lvlplot\n",
    "\n",
    "        my_curve.append_curve(\"CLAY_LEVEL\",curve_df[\"CLAY_LEVEL\"])\n",
    "        my_curve.append_curve(\"SAND_LEVEL\",curve_df[\"SAND_LEVEL\"])\n",
    "\n",
    "\n",
    "\n",
    "        for curvetypes in bounds[folder_name][curve]:\n",
    "            for interval in bounds[folder_name][curve][curvetypes]:\n",
    "                classoffac = np.full_like(np.array(curve_df.query(\"DEPTH > @interval[0] & DEPTH < @interval[1]\")[\"DEPTH\"]),curvetypes)\n",
    "                fac_class[curve_df.query(\"DEPTH > @interval[0] & DEPTH < @interval[1]\").index] = classoffac\n",
    "\n",
    "\n",
    "        curve_df[\"FACIES_CLASS\"] = fac_class\n",
    "        my_curve.append_curve(\"Facies_classes\",curve_df[\"FACIES_CLASS\"])\n",
    "        my_curve[my_curve.keys()[1]] = curve_for_agg\n",
    "\n",
    "\n",
    "        my_curve.write(f'LasCurves/{folder_name}/{curve}.las')"
   ]
  },
  {
   "cell_type": "code",
   "execution_count": null,
   "metadata": {},
   "outputs": [],
   "source": [
    "files_for_walk = os.listdir(f'LasCurves/il')\n",
    "curves = list(filter(lambda f : '.las' in f, files_for_walk))\n",
    "for curve in curves:\n",
    "    my_curve = lasio.read(f'LasCurves/il/{curve}')\n",
    "    curve_df = my_curve.df()\n",
    "    las_curve = np.array(curve_df[my_curve.keys()[1]])\n",
    "\n",
    "    mask_left = (curve_df['1_AGK'] > 0.65).cumsum() > 1\n",
    "    mask_right = ((curve_df['1_AGK'] > 0.65)[::-1].cumsum() > 1)[::-1]\n",
    "    mask_res = (mask_left & mask_right)\n",
    "    \n",
    "    cropped_df = curve_df[mask_res]\n",
    "\n",
    "\n",
    "    my_curve.set_data(cropped_df)\n",
    "    my_curve.write(f'LasCurves/il_mod/{curve}')\n"
   ]
  },
  {
   "cell_type": "code",
   "execution_count": null,
   "metadata": {},
   "outputs": [],
   "source": []
  },
  {
   "cell_type": "code",
   "execution_count": null,
   "metadata": {},
   "outputs": [],
   "source": []
  },
  {
   "cell_type": "code",
   "execution_count": null,
   "metadata": {},
   "outputs": [],
   "source": []
  },
  {
   "cell_type": "code",
   "execution_count": null,
   "metadata": {},
   "outputs": [],
   "source": []
  },
  {
   "cell_type": "code",
   "execution_count": null,
   "metadata": {},
   "outputs": [],
   "source": []
  }
 ],
 "metadata": {
  "colab": {
   "authorship_tag": "ABX9TyNvTZLkkYuvDmXdhH7FUTw4",
   "mount_file_id": "1UwXkQWMx_J6q35dkwjhM-PgUfNECjHzZ",
   "provenance": []
  },
  "kernelspec": {
   "display_name": "Python 3 (ipykernel)",
   "language": "python",
   "name": "python3"
  },
  "language_info": {
   "codemirror_mode": {
    "name": "ipython",
    "version": 3
   },
   "file_extension": ".py",
   "mimetype": "text/x-python",
   "name": "python",
   "nbconvert_exporter": "python",
   "pygments_lexer": "ipython3",
   "version": "3.9.7"
  }
 },
 "nbformat": 4,
 "nbformat_minor": 1
}
