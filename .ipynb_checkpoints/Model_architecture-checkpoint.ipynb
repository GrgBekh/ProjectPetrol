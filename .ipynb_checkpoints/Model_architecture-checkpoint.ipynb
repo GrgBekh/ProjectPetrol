{
 "cells": [
  {
   "cell_type": "code",
   "execution_count": 1,
   "metadata": {
    "executionInfo": {
     "elapsed": 2,
     "status": "ok",
     "timestamp": 1689344945282,
     "user": {
      "displayName": "кто-то там",
      "userId": "18035495133147418666"
     },
     "user_tz": -300
    },
    "id": "CPWivJqjDxEs"
   },
   "outputs": [],
   "source": [
    "%load_ext tensorboard"
   ]
  },
  {
   "cell_type": "code",
   "execution_count": 7,
   "metadata": {
    "colab": {
     "base_uri": "https://localhost:8080/"
    },
    "executionInfo": {
     "elapsed": 236,
     "status": "ok",
     "timestamp": 1689344995502,
     "user": {
      "displayName": "кто-то там",
      "userId": "18035495133147418666"
     },
     "user_tz": -300
    },
    "id": "friKru24cVgi",
    "outputId": "d78560e4-7190-4f1a-d0b1-e75e27829783"
   },
   "outputs": [
    {
     "ename": "SyntaxError",
     "evalue": "invalid syntax (2652846359.py, line 16)",
     "output_type": "error",
     "traceback": [
      "\u001b[1;36m  Cell \u001b[1;32mIn[7], line 16\u001b[1;36m\u001b[0m\n\u001b[1;33m    device_list =\u001b[0m\n\u001b[1;37m                  ^\u001b[0m\n\u001b[1;31mSyntaxError\u001b[0m\u001b[1;31m:\u001b[0m invalid syntax\n"
     ]
    }
   ],
   "source": [
    "import numpy as np\n",
    "import pandas as pd\n",
    "import scipy.fft as scft\n",
    "import scipy.signal as sig\n",
    "import matplotlib.pyplot as plt\n",
    "from sklearn.utils import shuffle\n",
    "import json\n",
    "import seaborn as sns\n",
    "from sklearn.cluster import KMeans\n",
    "import os\n",
    "from tensorflow import keras\n",
    "from keras.layers import Dense,Dropout, UpSampling1D, Reshape, Conv1D, MaxPooling1D, Input, concatenate, Bidirectional, Add, Activation, GRU\n",
    "from sklearn import utils\n",
    "from sklearn.model_selection import train_test_split\n",
    "import tensorflow as tf\n",
    "#GPU выключен на случай если нет env под GPU, обучение происходило на google colab\n",
    "\n",
    "\n",
    "import datetime\n"
   ]
  },
  {
   "cell_type": "code",
   "execution_count": 8,
   "metadata": {
    "executionInfo": {
     "elapsed": 1,
     "status": "ok",
     "timestamp": 1689344997384,
     "user": {
      "displayName": "кто-то там",
      "userId": "18035495133147418666"
     },
     "user_tz": -300
    },
    "id": "BewV4IO4KfGo"
   },
   "outputs": [],
   "source": [
    "input_len = 1000"
   ]
  },
  {
   "cell_type": "code",
   "execution_count": 9,
   "metadata": {
    "id": "VMMbqp1t7eTz"
   },
   "outputs": [
    {
     "name": "stdout",
     "output_type": "stream",
     "text": [
      "Model: \"model\"\n",
      "__________________________________________________________________________________________________\n",
      " Layer (type)                Output Shape                 Param #   Connected to                  \n",
      "==================================================================================================\n",
      " input_1 (InputLayer)        [(None, 1000, 1)]            0         []                            \n",
      "                                                                                                  \n",
      " conv1d (Conv1D)             (None, 1000, 16)             32        ['input_1[0][0]']             \n",
      "                                                                                                  \n",
      " max_pooling1d (MaxPooling1  (None, 1000, 1)              0         ['input_1[0][0]']             \n",
      " D)                                                                                               \n",
      "                                                                                                  \n",
      " conv1d_1 (Conv1D)           (None, 1000, 16)             784       ['conv1d[0][0]']              \n",
      "                                                                                                  \n",
      " conv1d_2 (Conv1D)           (None, 1000, 16)             784       ['conv1d[0][0]']              \n",
      "                                                                                                  \n",
      " conv1d_3 (Conv1D)           (None, 1000, 16)             784       ['conv1d[0][0]']              \n",
      "                                                                                                  \n",
      " conv1d_4 (Conv1D)           (None, 1000, 16)             32        ['max_pooling1d[0][0]']       \n",
      "                                                                                                  \n",
      " concatenate (Concatenate)   (None, 1000, 64)             0         ['conv1d_1[0][0]',            \n",
      "                                                                     'conv1d_2[0][0]',            \n",
      "                                                                     'conv1d_3[0][0]',            \n",
      "                                                                     'conv1d_4[0][0]']            \n",
      "                                                                                                  \n",
      " conv1d_6 (Conv1D)           (None, 1000, 8)              16        ['input_1[0][0]']             \n",
      "                                                                                                  \n",
      " conv1d_5 (Conv1D)           (None, 1000, 8)              520       ['concatenate[0][0]']         \n",
      "                                                                                                  \n",
      " add (Add)                   (None, 1000, 8)              0         ['conv1d_6[0][0]',            \n",
      "                                                                     'conv1d_5[0][0]']            \n",
      "                                                                                                  \n",
      " activation (Activation)     (None, 1000, 8)              0         ['add[0][0]']                 \n",
      "                                                                                                  \n",
      " max_pooling1d_1 (MaxPoolin  (None, 500, 8)               0         ['activation[0][0]']          \n",
      " g1D)                                                                                             \n",
      "                                                                                                  \n",
      " conv1d_7 (Conv1D)           (None, 500, 32)              288       ['max_pooling1d_1[0][0]']     \n",
      "                                                                                                  \n",
      " max_pooling1d_2 (MaxPoolin  (None, 500, 8)               0         ['max_pooling1d_1[0][0]']     \n",
      " g1D)                                                                                             \n",
      "                                                                                                  \n",
      " conv1d_8 (Conv1D)           (None, 500, 24)              2328      ['conv1d_7[0][0]']            \n",
      "                                                                                                  \n",
      " conv1d_9 (Conv1D)           (None, 500, 24)              2328      ['conv1d_7[0][0]']            \n",
      "                                                                                                  \n",
      " conv1d_10 (Conv1D)          (None, 500, 24)              2328      ['conv1d_7[0][0]']            \n",
      "                                                                                                  \n",
      " conv1d_11 (Conv1D)          (None, 500, 24)              216       ['max_pooling1d_2[0][0]']     \n",
      "                                                                                                  \n",
      " concatenate_1 (Concatenate  (None, 500, 96)              0         ['conv1d_8[0][0]',            \n",
      " )                                                                   'conv1d_9[0][0]',            \n",
      "                                                                     'conv1d_10[0][0]',           \n",
      "                                                                     'conv1d_11[0][0]']           \n",
      "                                                                                                  \n",
      " conv1d_13 (Conv1D)          (None, 500, 24)              216       ['max_pooling1d_1[0][0]']     \n",
      "                                                                                                  \n",
      " conv1d_12 (Conv1D)          (None, 500, 24)              2328      ['concatenate_1[0][0]']       \n",
      "                                                                                                  \n",
      " add_1 (Add)                 (None, 500, 24)              0         ['conv1d_13[0][0]',           \n",
      "                                                                     'conv1d_12[0][0]']           \n",
      "                                                                                                  \n",
      " activation_1 (Activation)   (None, 500, 24)              0         ['add_1[0][0]']               \n",
      "                                                                                                  \n",
      " max_pooling1d_3 (MaxPoolin  (None, 250, 24)              0         ['activation_1[0][0]']        \n",
      " g1D)                                                                                             \n",
      "                                                                                                  \n",
      " conv1d_14 (Conv1D)          (None, 250, 64)              1600      ['max_pooling1d_3[0][0]']     \n",
      "                                                                                                  \n",
      " max_pooling1d_4 (MaxPoolin  (None, 250, 24)              0         ['max_pooling1d_3[0][0]']     \n",
      " g1D)                                                                                             \n",
      "                                                                                                  \n",
      " conv1d_15 (Conv1D)          (None, 250, 32)              6176      ['conv1d_14[0][0]']           \n",
      "                                                                                                  \n",
      " conv1d_16 (Conv1D)          (None, 250, 32)              6176      ['conv1d_14[0][0]']           \n",
      "                                                                                                  \n",
      " conv1d_17 (Conv1D)          (None, 250, 32)              6176      ['conv1d_14[0][0]']           \n",
      "                                                                                                  \n",
      " conv1d_18 (Conv1D)          (None, 250, 32)              800       ['max_pooling1d_4[0][0]']     \n",
      "                                                                                                  \n",
      " concatenate_2 (Concatenate  (None, 250, 128)             0         ['conv1d_15[0][0]',           \n",
      " )                                                                   'conv1d_16[0][0]',           \n",
      "                                                                     'conv1d_17[0][0]',           \n",
      "                                                                     'conv1d_18[0][0]']           \n",
      "                                                                                                  \n"
     ]
    },
    {
     "name": "stdout",
     "output_type": "stream",
     "text": [
      " conv1d_19 (Conv1D)          (None, 250, 32)              4128      ['concatenate_2[0][0]']       \n",
      "                                                                                                  \n",
      " conv1d_20 (Conv1D)          (None, 250, 64)              1600      ['max_pooling1d_3[0][0]']     \n",
      "                                                                                                  \n",
      " bidirectional (Bidirection  (None, 250, 64)              12672     ['conv1d_19[0][0]']           \n",
      " al)                                                                                              \n",
      "                                                                                                  \n",
      " add_2 (Add)                 (None, 250, 64)              0         ['conv1d_20[0][0]',           \n",
      "                                                                     'bidirectional[0][0]']       \n",
      "                                                                                                  \n",
      " activation_2 (Activation)   (None, 250, 64)              0         ['add_2[0][0]']               \n",
      "                                                                                                  \n",
      " up_sampling1d (UpSampling1  (None, 500, 64)              0         ['activation_2[0][0]']        \n",
      " D)                                                                                               \n",
      "                                                                                                  \n",
      " concatenate_3 (Concatenate  (None, 500, 88)              0         ['up_sampling1d[0][0]',       \n",
      " )                                                                   'activation_1[0][0]']        \n",
      "                                                                                                  \n",
      " conv1d_21 (Conv1D)          (None, 500, 16)              1424      ['concatenate_3[0][0]']       \n",
      "                                                                                                  \n",
      " max_pooling1d_5 (MaxPoolin  (None, 500, 88)              0         ['concatenate_3[0][0]']       \n",
      " g1D)                                                                                             \n",
      "                                                                                                  \n",
      " conv1d_22 (Conv1D)          (None, 500, 24)              1176      ['conv1d_21[0][0]']           \n",
      "                                                                                                  \n",
      " conv1d_23 (Conv1D)          (None, 500, 24)              1176      ['conv1d_21[0][0]']           \n",
      "                                                                                                  \n",
      " conv1d_24 (Conv1D)          (None, 500, 24)              1176      ['conv1d_21[0][0]']           \n",
      "                                                                                                  \n",
      " conv1d_25 (Conv1D)          (None, 500, 24)              2136      ['max_pooling1d_5[0][0]']     \n",
      "                                                                                                  \n",
      " concatenate_4 (Concatenate  (None, 500, 96)              0         ['conv1d_22[0][0]',           \n",
      " )                                                                   'conv1d_23[0][0]',           \n",
      "                                                                     'conv1d_24[0][0]',           \n",
      "                                                                     'conv1d_25[0][0]']           \n",
      "                                                                                                  \n",
      " conv1d_26 (Conv1D)          (None, 500, 12)              3468      ['concatenate_4[0][0]']       \n",
      "                                                                                                  \n",
      " conv1d_27 (Conv1D)          (None, 500, 32)              2080      ['up_sampling1d[0][0]']       \n",
      "                                                                                                  \n",
      " bidirectional_1 (Bidirecti  (None, 500, 32)              2880      ['conv1d_26[0][0]']           \n",
      " onal)                                                                                            \n",
      "                                                                                                  \n",
      " add_3 (Add)                 (None, 500, 32)              0         ['conv1d_27[0][0]',           \n",
      "                                                                     'bidirectional_1[0][0]']     \n",
      "                                                                                                  \n",
      " activation_3 (Activation)   (None, 500, 32)              0         ['add_3[0][0]']               \n",
      "                                                                                                  \n",
      " up_sampling1d_1 (UpSamplin  (None, 1000, 32)             0         ['activation_3[0][0]']        \n",
      " g1D)                                                                                             \n",
      "                                                                                                  \n",
      " concatenate_5 (Concatenate  (None, 1000, 40)             0         ['up_sampling1d_1[0][0]',     \n",
      " )                                                                   'activation[0][0]']          \n",
      "                                                                                                  \n",
      " conv1d_28 (Conv1D)          (None, 1000, 8)              328       ['concatenate_5[0][0]']       \n",
      "                                                                                                  \n",
      " max_pooling1d_6 (MaxPoolin  (None, 1000, 40)             0         ['concatenate_5[0][0]']       \n",
      " g1D)                                                                                             \n",
      "                                                                                                  \n",
      " conv1d_29 (Conv1D)          (None, 1000, 16)             400       ['conv1d_28[0][0]']           \n",
      "                                                                                                  \n",
      " conv1d_30 (Conv1D)          (None, 1000, 16)             400       ['conv1d_28[0][0]']           \n",
      "                                                                                                  \n",
      " conv1d_31 (Conv1D)          (None, 1000, 16)             400       ['conv1d_28[0][0]']           \n",
      "                                                                                                  \n",
      " conv1d_32 (Conv1D)          (None, 1000, 16)             656       ['max_pooling1d_6[0][0]']     \n",
      "                                                                                                  \n",
      " concatenate_6 (Concatenate  (None, 1000, 64)             0         ['conv1d_29[0][0]',           \n",
      " )                                                                   'conv1d_30[0][0]',           \n",
      "                                                                     'conv1d_31[0][0]',           \n",
      "                                                                     'conv1d_32[0][0]']           \n",
      "                                                                                                  \n",
      " conv1d_33 (Conv1D)          (None, 1000, 16)             3088      ['concatenate_6[0][0]']       \n",
      "                                                                                                  \n",
      " conv1d_34 (Conv1D)          (None, 1000, 64)             2112      ['up_sampling1d_1[0][0]']     \n",
      "                                                                                                  \n",
      " bidirectional_2 (Bidirecti  (None, 1000, 64)             9600      ['conv1d_33[0][0]']           \n",
      " onal)                                                                                            \n",
      "                                                                                                  \n",
      " add_4 (Add)                 (None, 1000, 64)             0         ['conv1d_34[0][0]',           \n",
      "                                                                     'bidirectional_2[0][0]']     \n",
      "                                                                                                  \n",
      " activation_4 (Activation)   (None, 1000, 64)             0         ['add_4[0][0]']               \n"
     ]
    },
    {
     "name": "stdout",
     "output_type": "stream",
     "text": [
      "                                                                                                  \n",
      " conv1d_35 (Conv1D)          (None, 1000, 3)              579       ['activation_4[0][0]']        \n",
      "                                                                                                  \n",
      "==================================================================================================\n",
      "Total params: 85391 (333.56 KB)\n",
      "Trainable params: 85391 (333.56 KB)\n",
      "Non-trainable params: 0 (0.00 Byte)\n",
      "__________________________________________________________________________________________________\n",
      "None\n"
     ]
    }
   ],
   "source": [
    "input_len = 1000\n",
    "input_shape = (input_len, 1)\n",
    "\n",
    "input_layer = Input(shape=input_shape)\n",
    "lmd = 0.01\n",
    "\n",
    "##\n",
    "\n",
    "conv_block_1_inc_1 = Conv1D(filters=16, kernel_size = 1, activation='relu', padding='same')(input_layer)\n",
    "pool_inner_1 = MaxPooling1D(pool_size=3, padding = 'same', strides = 1)(input_layer)\n",
    "\n",
    "conv_block_1_real_1 = Conv1D(filters=16, kernel_size = 3, activation='relu', padding='same',dilation_rate = 1)(conv_block_1_inc_1)\n",
    "conv_block_1_real_2 = Conv1D(filters=16, kernel_size = 3, activation='relu', padding='same',dilation_rate = 2)(conv_block_1_inc_1)\n",
    "conv_block_1_real_3 = Conv1D(filters=16, kernel_size = 3, activation='relu', padding='same',dilation_rate = 4)(conv_block_1_inc_1)\n",
    "conv_block_1_real_4 = Conv1D(filters=16, kernel_size = 1, activation='relu', padding='same')(pool_inner_1)\n",
    "\n",
    "concat_block_1 = concatenate([conv_block_1_real_1, conv_block_1_real_2, conv_block_1_real_3, conv_block_1_real_4], axis=-1)\n",
    "conv_block_1_squeezer = Conv1D(filters=8, kernel_size = 1, activation='relu', padding='same')(concat_block_1)\n",
    "\n",
    "skip_block_1 = Add()([Conv1D(filters=8, kernel_size=1, padding='same')(input_layer), conv_block_1_squeezer])\n",
    "activate_1 = Activation('relu')(skip_block_1)\n",
    "\n",
    "\n",
    "\n",
    "pool_1_block_outer = MaxPooling1D(pool_size=2)(activate_1)\n",
    "##\n",
    "\n",
    "conv_block_2_inc_1 = Conv1D(filters=32, kernel_size = 1, activation='relu', padding='same')(pool_1_block_outer)\n",
    "pool_inner_2 = MaxPooling1D(pool_size=3, padding = 'same', strides = 1)(pool_1_block_outer)\n",
    "\n",
    "conv_block_2_real_1 = Conv1D(filters=24, kernel_size = 3, activation='relu', padding='same',dilation_rate = 1)(conv_block_2_inc_1)\n",
    "conv_block_2_real_2 = Conv1D(filters=24, kernel_size = 3, activation='relu', padding='same',dilation_rate = 2)(conv_block_2_inc_1)\n",
    "conv_block_2_real_3 = Conv1D(filters=24, kernel_size = 3, activation='relu', padding='same',dilation_rate = 4)(conv_block_2_inc_1)\n",
    "conv_block_2_real_4 = Conv1D(filters=24, kernel_size = 1, activation='relu', padding='same')(pool_inner_2)\n",
    "\n",
    "concat_block_2 = concatenate([conv_block_2_real_1, conv_block_2_real_2, conv_block_2_real_3, conv_block_2_real_4], axis=-1)\n",
    "conv_block_2_squeezer = Conv1D(filters=24, kernel_size = 1, activation='relu', padding='same')(concat_block_2)\n",
    "\n",
    "skip_block_2 = Add()([Conv1D(filters=24, kernel_size=1, padding='same')(pool_1_block_outer), conv_block_2_squeezer])\n",
    "activate_2 = Activation('relu')(skip_block_2)\n",
    "\n",
    "\n",
    "\n",
    "pool_2_block_outer = MaxPooling1D(pool_size=2)(activate_2)\n",
    "##\n",
    "\n",
    "conv_block_3_inc_1 = Conv1D(filters=64, kernel_size = 1, activation='relu', padding='same')(pool_2_block_outer)\n",
    "pool_inner_3 = MaxPooling1D(pool_size=3, padding = 'same', strides = 1)(pool_2_block_outer)\n",
    "\n",
    "conv_block_3_real_1 = Conv1D(filters=32, kernel_size = 3, activation='relu', padding='same',dilation_rate = 1)(conv_block_3_inc_1)\n",
    "conv_block_3_real_2 = Conv1D(filters=32, kernel_size = 3, activation='relu', padding='same',dilation_rate = 2)(conv_block_3_inc_1)\n",
    "conv_block_3_real_3 = Conv1D(filters=32, kernel_size = 3, activation='relu', padding='same',dilation_rate = 4)(conv_block_3_inc_1)\n",
    "conv_block_3_real_4 = Conv1D(filters=32, kernel_size = 1, activation='relu', padding='same')(pool_inner_3)\n",
    "\n",
    "concat_block_3 = concatenate([conv_block_3_real_1, conv_block_3_real_2, conv_block_3_real_3, conv_block_3_real_4], axis=-1)\n",
    "conv_block_3_squeezer = Conv1D(filters=32, kernel_size = 1, activation='relu', padding='same')(concat_block_3)\n",
    "\n",
    "lstm_block_3 = Bidirectional(GRU(32, return_sequences = True))(conv_block_3_squeezer)\n",
    "skip_block_3 = Add()([Conv1D(filters=32*2, kernel_size=1, padding='same', activation = 'tanh')(pool_2_block_outer), lstm_block_3])\n",
    "activate_3 = Activation('relu')(skip_block_3)\n",
    "\n",
    "\n",
    "upsample_1 = UpSampling1D(size=2)(activate_3)\n",
    "##\n",
    "concat_2_4 = concatenate([upsample_1, activate_2], axis=-1)\n",
    "conv_block_4_inc_1 = Conv1D(filters=16, kernel_size = 1, activation='relu', padding='same')(concat_2_4)\n",
    "pool_inner_4 = MaxPooling1D(pool_size=3, padding = 'same', strides = 1)(concat_2_4)\n",
    "\n",
    "conv_block_4_real_1 = Conv1D(filters=24, kernel_size = 3, activation='relu', padding='same',dilation_rate = 4)(conv_block_4_inc_1)\n",
    "conv_block_4_real_2 = Conv1D(filters=24, kernel_size = 3, activation='relu', padding='same',dilation_rate = 2)(conv_block_4_inc_1)\n",
    "conv_block_4_real_3 = Conv1D(filters=24, kernel_size = 3, activation='relu', padding='same',dilation_rate = 1)(conv_block_4_inc_1)\n",
    "conv_block_4_real_4 = Conv1D(filters=24, kernel_size = 1, activation='relu', padding='same')(pool_inner_4)\n",
    "\n",
    "concat_block_4 = concatenate([conv_block_4_real_1, conv_block_4_real_2, conv_block_4_real_3, conv_block_4_real_4], axis=-1)\n",
    "conv_block_4_squeezer = Conv1D(filters=12, kernel_size = 3, activation='relu', padding='same')(concat_block_4)\n",
    "\n",
    "lstm_block_4 = Bidirectional(GRU(16, return_sequences = True))(conv_block_4_squeezer)\n",
    "skip_block_4 = Add()([Conv1D(filters=32, kernel_size=1, padding='same', activation = 'tanh')(upsample_1), lstm_block_4])\n",
    "activate_4 = Activation('relu')(skip_block_4)\n",
    "\n",
    "upsample_2 = UpSampling1D(size=2)(activate_4)\n",
    "\n",
    "##\n",
    "concat_1_5 = concatenate([upsample_2, activate_1], axis=-1)\n",
    "conv_block_5_inc_1 = Conv1D(filters=8, kernel_size = 1, activation='relu', padding='same')(concat_1_5)\n",
    "pool_inner_5 = MaxPooling1D(pool_size=3, padding = 'same', strides = 1)(concat_1_5)\n",
    "\n",
    "conv_block_5_real_1 = Conv1D(filters=16, kernel_size = 3, activation='relu', padding='same',dilation_rate = 4)(conv_block_5_inc_1)\n",
    "conv_block_5_real_2 = Conv1D(filters=16, kernel_size = 3, activation='relu', padding='same',dilation_rate = 2)(conv_block_5_inc_1)\n",
    "conv_block_5_real_3 = Conv1D(filters=16, kernel_size = 3, activation='relu', padding='same',dilation_rate = 1)(conv_block_5_inc_1)\n",
    "conv_block_5_real_4 = Conv1D(filters=16, kernel_size = 1, activation='relu', padding='same')(pool_inner_5)\n",
    "\n",
    "concat_block_5 = concatenate([conv_block_5_real_1, conv_block_5_real_2, conv_block_5_real_3, conv_block_5_real_4], axis=-1)\n",
    "conv_block_5_squeezer = Conv1D(filters=16, kernel_size = 3, activation='relu', padding='same')(concat_block_5)\n",
    "\n",
    "lstm_block_5 = Bidirectional(GRU(32, return_sequences = True))(conv_block_5_squeezer)\n",
    "skip_block_5 = Add()([Conv1D(filters=64, kernel_size=1, padding='same')(upsample_2), lstm_block_5])\n",
    "activate_5 = Activation('relu')(skip_block_5)\n",
    "\n",
    "\n",
    "output_layer = Conv1D(3, kernel_size = 3, activation = 'softmax', padding = 'same')(activate_5)\n",
    "\n",
    "\n",
    "model_4_dilation = keras.Model(inputs=input_layer, outputs=output_layer)\n",
    "\n",
    "print(model_4_dilation.summary())\n",
    "\n",
    "model_4_dilation.compile(optimizer= keras.optimizers.Adam(learning_rate = 0.0003),\n",
    "             loss='categorical_crossentropy',\n",
    "             metrics=[keras.metrics.CategoricalCrossentropy(), 'acc'])\n"
   ]
  },
  {
   "cell_type": "code",
   "execution_count": 11,
   "metadata": {
    "executionInfo": {
     "elapsed": 226,
     "status": "ok",
     "timestamp": 1689345008558,
     "user": {
      "displayName": "кто-то там",
      "userId": "18035495133147418666"
     },
     "user_tz": -300
    },
    "id": "nTIHmf0DRLAP"
   },
   "outputs": [],
   "source": [
    "X_train, X_test, y_train, y_test, X_train_shuf, y_train_shuf, y_train_arr, y_test_eval,X_train_arr = 0, 0, 0, 0, 0, 0, 0, 0, 0"
   ]
  },
  {
   "cell_type": "code",
   "execution_count": 12,
   "metadata": {
    "executionInfo": {
     "elapsed": 2122,
     "status": "ok",
     "timestamp": 1689345011714,
     "user": {
      "displayName": "кто-то там",
      "userId": "18035495133147418666"
     },
     "user_tz": -300
    },
    "id": "BsE-O8iIb8le"
   },
   "outputs": [],
   "source": [
    "X_train = pd.read_csv('DatasetForPetroCNN/X_train.csv')\n",
    "X_test = pd.read_csv('DatasetForPetroCNN/X_test.csv')\n",
    "y_train = pd.read_csv('DatasetForPetroCNN/y_train.csv')\n",
    "y_test = pd.read_csv('DatasetForPetroCNN/y_test.csv')\n",
    "\n",
    "X_train_shuf, y_train_shuf = shuffle(X_train, y_train, random_state = 7)\n",
    "\n",
    "X_train_shuf = X_train_shuf.drop([\"Unnamed: 0\", \"curvename\"], axis = 1)\n",
    "y_train_shuf = y_train_shuf.drop([\"Unnamed: 0\", \"curvename\"], axis = 1)\n",
    "\n",
    "X_train_arr, y_train_arr = np.array(X_train_shuf), np.array(y_train_shuf)\n",
    "\n",
    "X_train_arr = np.expand_dims(X_train_arr, axis = 2)\n",
    "\n",
    "\n",
    "test_names = X_test[\"curvename\"]\n",
    "depadder = pd.read_csv('DatasetForPetroCNN/depadder.csv')\n",
    "depadder = depadder.drop(['Unnamed: 0'], axis = 1)\n",
    "\n",
    "X_test_eval = X_test.drop([\"Unnamed: 0\", \"curvename\"], axis = 1)\n",
    "y_test_eval = y_test.drop([\"Unnamed: 0\", \"curvename\"], axis = 1)\n",
    "\n",
    "X_test_eval, y_test_eval = np.array(X_test_eval), np.array(y_test_eval)\n",
    "\n",
    "X_test_eval = np.expand_dims(X_test_eval, axis = 2)\n",
    "\n",
    "\n",
    "\n",
    "y_train_arr = keras.utils.to_categorical(y_train_arr)\n",
    "y_test_eval = keras.utils.to_categorical(y_test_eval)"
   ]
  },
  {
   "cell_type": "code",
   "execution_count": 13,
   "metadata": {
    "colab": {
     "base_uri": "https://localhost:8080/",
     "height": 424
    },
    "executionInfo": {
     "elapsed": 343,
     "status": "ok",
     "timestamp": 1689345013935,
     "user": {
      "displayName": "кто-то там",
      "userId": "18035495133147418666"
     },
     "user_tz": -300
    },
    "id": "lXug3OfwQ9vj",
    "outputId": "79cffadc-50aa-466f-8dae-f7268493aa46"
   },
   "outputs": [
    {
     "data": {
      "text/html": [
       "<div>\n",
       "<style scoped>\n",
       "    .dataframe tbody tr th:only-of-type {\n",
       "        vertical-align: middle;\n",
       "    }\n",
       "\n",
       "    .dataframe tbody tr th {\n",
       "        vertical-align: top;\n",
       "    }\n",
       "\n",
       "    .dataframe thead th {\n",
       "        text-align: right;\n",
       "    }\n",
       "</style>\n",
       "<table border=\"1\" class=\"dataframe\">\n",
       "  <thead>\n",
       "    <tr style=\"text-align: right;\">\n",
       "      <th></th>\n",
       "      <th>Unnamed: 0</th>\n",
       "      <th>0</th>\n",
       "      <th>1</th>\n",
       "      <th>2</th>\n",
       "      <th>3</th>\n",
       "      <th>4</th>\n",
       "      <th>5</th>\n",
       "      <th>6</th>\n",
       "      <th>7</th>\n",
       "      <th>8</th>\n",
       "      <th>...</th>\n",
       "      <th>991</th>\n",
       "      <th>992</th>\n",
       "      <th>993</th>\n",
       "      <th>994</th>\n",
       "      <th>995</th>\n",
       "      <th>996</th>\n",
       "      <th>997</th>\n",
       "      <th>998</th>\n",
       "      <th>999</th>\n",
       "      <th>curvename</th>\n",
       "    </tr>\n",
       "  </thead>\n",
       "  <tbody>\n",
       "    <tr>\n",
       "      <th>0</th>\n",
       "      <td>0</td>\n",
       "      <td>1.000000</td>\n",
       "      <td>1.000000</td>\n",
       "      <td>1.000000</td>\n",
       "      <td>1.000000</td>\n",
       "      <td>1.000000</td>\n",
       "      <td>1.000000</td>\n",
       "      <td>1.000000</td>\n",
       "      <td>1.000000</td>\n",
       "      <td>1.000000</td>\n",
       "      <td>...</td>\n",
       "      <td>1.000000</td>\n",
       "      <td>1.000000</td>\n",
       "      <td>1.000000</td>\n",
       "      <td>1.000000</td>\n",
       "      <td>1.000000</td>\n",
       "      <td>1.000000</td>\n",
       "      <td>1.000000</td>\n",
       "      <td>1.000000</td>\n",
       "      <td>1.000000</td>\n",
       "      <td>0_il_mod</td>\n",
       "    </tr>\n",
       "    <tr>\n",
       "      <th>1</th>\n",
       "      <td>1</td>\n",
       "      <td>1.000000</td>\n",
       "      <td>1.000000</td>\n",
       "      <td>1.000000</td>\n",
       "      <td>1.000000</td>\n",
       "      <td>1.000000</td>\n",
       "      <td>1.000000</td>\n",
       "      <td>1.000000</td>\n",
       "      <td>1.000000</td>\n",
       "      <td>1.000000</td>\n",
       "      <td>...</td>\n",
       "      <td>1.000000</td>\n",
       "      <td>1.000000</td>\n",
       "      <td>1.000000</td>\n",
       "      <td>1.000000</td>\n",
       "      <td>1.000000</td>\n",
       "      <td>1.000000</td>\n",
       "      <td>1.000000</td>\n",
       "      <td>1.000000</td>\n",
       "      <td>1.000000</td>\n",
       "      <td>1_il_mod</td>\n",
       "    </tr>\n",
       "    <tr>\n",
       "      <th>2</th>\n",
       "      <td>2</td>\n",
       "      <td>1.000000</td>\n",
       "      <td>1.000000</td>\n",
       "      <td>1.000000</td>\n",
       "      <td>1.000000</td>\n",
       "      <td>1.000000</td>\n",
       "      <td>1.000000</td>\n",
       "      <td>1.000000</td>\n",
       "      <td>1.000000</td>\n",
       "      <td>1.000000</td>\n",
       "      <td>...</td>\n",
       "      <td>1.000000</td>\n",
       "      <td>1.000000</td>\n",
       "      <td>1.000000</td>\n",
       "      <td>1.000000</td>\n",
       "      <td>1.000000</td>\n",
       "      <td>1.000000</td>\n",
       "      <td>1.000000</td>\n",
       "      <td>1.000000</td>\n",
       "      <td>1.000000</td>\n",
       "      <td>2_il_mod</td>\n",
       "    </tr>\n",
       "    <tr>\n",
       "      <th>3</th>\n",
       "      <td>3</td>\n",
       "      <td>1.000000</td>\n",
       "      <td>1.000000</td>\n",
       "      <td>1.000000</td>\n",
       "      <td>1.000000</td>\n",
       "      <td>1.000000</td>\n",
       "      <td>1.000000</td>\n",
       "      <td>1.000000</td>\n",
       "      <td>1.000000</td>\n",
       "      <td>1.000000</td>\n",
       "      <td>...</td>\n",
       "      <td>1.000000</td>\n",
       "      <td>1.000000</td>\n",
       "      <td>1.000000</td>\n",
       "      <td>1.000000</td>\n",
       "      <td>1.000000</td>\n",
       "      <td>1.000000</td>\n",
       "      <td>1.000000</td>\n",
       "      <td>1.000000</td>\n",
       "      <td>1.000000</td>\n",
       "      <td>3_il_mod</td>\n",
       "    </tr>\n",
       "    <tr>\n",
       "      <th>4</th>\n",
       "      <td>4</td>\n",
       "      <td>1.000000</td>\n",
       "      <td>1.000000</td>\n",
       "      <td>1.000000</td>\n",
       "      <td>1.000000</td>\n",
       "      <td>1.000000</td>\n",
       "      <td>1.000000</td>\n",
       "      <td>1.000000</td>\n",
       "      <td>1.000000</td>\n",
       "      <td>1.000000</td>\n",
       "      <td>...</td>\n",
       "      <td>1.000000</td>\n",
       "      <td>1.000000</td>\n",
       "      <td>1.000000</td>\n",
       "      <td>1.000000</td>\n",
       "      <td>1.000000</td>\n",
       "      <td>1.000000</td>\n",
       "      <td>1.000000</td>\n",
       "      <td>1.000000</td>\n",
       "      <td>1.000000</td>\n",
       "      <td>5_il_mod</td>\n",
       "    </tr>\n",
       "    <tr>\n",
       "      <th>...</th>\n",
       "      <td>...</td>\n",
       "      <td>...</td>\n",
       "      <td>...</td>\n",
       "      <td>...</td>\n",
       "      <td>...</td>\n",
       "      <td>...</td>\n",
       "      <td>...</td>\n",
       "      <td>...</td>\n",
       "      <td>...</td>\n",
       "      <td>...</td>\n",
       "      <td>...</td>\n",
       "      <td>...</td>\n",
       "      <td>...</td>\n",
       "      <td>...</td>\n",
       "      <td>...</td>\n",
       "      <td>...</td>\n",
       "      <td>...</td>\n",
       "      <td>...</td>\n",
       "      <td>...</td>\n",
       "      <td>...</td>\n",
       "      <td>...</td>\n",
       "    </tr>\n",
       "    <tr>\n",
       "      <th>255</th>\n",
       "      <td>255</td>\n",
       "      <td>1.030648</td>\n",
       "      <td>0.967747</td>\n",
       "      <td>0.952316</td>\n",
       "      <td>1.026426</td>\n",
       "      <td>0.992450</td>\n",
       "      <td>1.038965</td>\n",
       "      <td>0.960314</td>\n",
       "      <td>0.969509</td>\n",
       "      <td>1.002609</td>\n",
       "      <td>...</td>\n",
       "      <td>1.002836</td>\n",
       "      <td>0.976298</td>\n",
       "      <td>1.054035</td>\n",
       "      <td>1.020903</td>\n",
       "      <td>0.945419</td>\n",
       "      <td>1.023204</td>\n",
       "      <td>1.026406</td>\n",
       "      <td>1.017635</td>\n",
       "      <td>0.972459</td>\n",
       "      <td>36_p</td>\n",
       "    </tr>\n",
       "    <tr>\n",
       "      <th>256</th>\n",
       "      <td>256</td>\n",
       "      <td>1.066912</td>\n",
       "      <td>0.973079</td>\n",
       "      <td>1.074916</td>\n",
       "      <td>0.945321</td>\n",
       "      <td>0.989852</td>\n",
       "      <td>1.111429</td>\n",
       "      <td>1.033926</td>\n",
       "      <td>0.965695</td>\n",
       "      <td>1.116696</td>\n",
       "      <td>...</td>\n",
       "      <td>0.989637</td>\n",
       "      <td>0.970859</td>\n",
       "      <td>1.025445</td>\n",
       "      <td>0.983253</td>\n",
       "      <td>1.079611</td>\n",
       "      <td>0.940009</td>\n",
       "      <td>0.992152</td>\n",
       "      <td>0.968628</td>\n",
       "      <td>1.085717</td>\n",
       "      <td>36_p</td>\n",
       "    </tr>\n",
       "    <tr>\n",
       "      <th>257</th>\n",
       "      <td>257</td>\n",
       "      <td>1.076870</td>\n",
       "      <td>0.955289</td>\n",
       "      <td>0.912146</td>\n",
       "      <td>0.981140</td>\n",
       "      <td>1.093306</td>\n",
       "      <td>0.969633</td>\n",
       "      <td>1.090648</td>\n",
       "      <td>1.050461</td>\n",
       "      <td>0.973851</td>\n",
       "      <td>...</td>\n",
       "      <td>0.945818</td>\n",
       "      <td>1.001298</td>\n",
       "      <td>0.992026</td>\n",
       "      <td>1.042029</td>\n",
       "      <td>0.988266</td>\n",
       "      <td>0.934002</td>\n",
       "      <td>1.030248</td>\n",
       "      <td>0.959041</td>\n",
       "      <td>0.883450</td>\n",
       "      <td>37_p</td>\n",
       "    </tr>\n",
       "    <tr>\n",
       "      <th>258</th>\n",
       "      <td>258</td>\n",
       "      <td>0.953088</td>\n",
       "      <td>1.047453</td>\n",
       "      <td>0.945719</td>\n",
       "      <td>0.949708</td>\n",
       "      <td>0.973076</td>\n",
       "      <td>1.000000</td>\n",
       "      <td>1.049522</td>\n",
       "      <td>1.054784</td>\n",
       "      <td>1.007234</td>\n",
       "      <td>...</td>\n",
       "      <td>1.032245</td>\n",
       "      <td>1.028729</td>\n",
       "      <td>1.042835</td>\n",
       "      <td>0.964587</td>\n",
       "      <td>1.002649</td>\n",
       "      <td>0.986056</td>\n",
       "      <td>0.958316</td>\n",
       "      <td>1.050781</td>\n",
       "      <td>1.018299</td>\n",
       "      <td>37_p</td>\n",
       "    </tr>\n",
       "    <tr>\n",
       "      <th>259</th>\n",
       "      <td>259</td>\n",
       "      <td>0.971600</td>\n",
       "      <td>1.015190</td>\n",
       "      <td>1.009717</td>\n",
       "      <td>1.118087</td>\n",
       "      <td>1.021636</td>\n",
       "      <td>0.972193</td>\n",
       "      <td>1.024573</td>\n",
       "      <td>0.965298</td>\n",
       "      <td>0.973682</td>\n",
       "      <td>...</td>\n",
       "      <td>0.991779</td>\n",
       "      <td>1.122135</td>\n",
       "      <td>0.986415</td>\n",
       "      <td>1.022243</td>\n",
       "      <td>0.976812</td>\n",
       "      <td>0.977324</td>\n",
       "      <td>1.051764</td>\n",
       "      <td>1.029217</td>\n",
       "      <td>1.022480</td>\n",
       "      <td>37_p</td>\n",
       "    </tr>\n",
       "  </tbody>\n",
       "</table>\n",
       "<p>260 rows × 1002 columns</p>\n",
       "</div>"
      ],
      "text/plain": [
       "     Unnamed: 0         0         1         2         3         4         5  \\\n",
       "0             0  1.000000  1.000000  1.000000  1.000000  1.000000  1.000000   \n",
       "1             1  1.000000  1.000000  1.000000  1.000000  1.000000  1.000000   \n",
       "2             2  1.000000  1.000000  1.000000  1.000000  1.000000  1.000000   \n",
       "3             3  1.000000  1.000000  1.000000  1.000000  1.000000  1.000000   \n",
       "4             4  1.000000  1.000000  1.000000  1.000000  1.000000  1.000000   \n",
       "..          ...       ...       ...       ...       ...       ...       ...   \n",
       "255         255  1.030648  0.967747  0.952316  1.026426  0.992450  1.038965   \n",
       "256         256  1.066912  0.973079  1.074916  0.945321  0.989852  1.111429   \n",
       "257         257  1.076870  0.955289  0.912146  0.981140  1.093306  0.969633   \n",
       "258         258  0.953088  1.047453  0.945719  0.949708  0.973076  1.000000   \n",
       "259         259  0.971600  1.015190  1.009717  1.118087  1.021636  0.972193   \n",
       "\n",
       "            6         7         8  ...       991       992       993  \\\n",
       "0    1.000000  1.000000  1.000000  ...  1.000000  1.000000  1.000000   \n",
       "1    1.000000  1.000000  1.000000  ...  1.000000  1.000000  1.000000   \n",
       "2    1.000000  1.000000  1.000000  ...  1.000000  1.000000  1.000000   \n",
       "3    1.000000  1.000000  1.000000  ...  1.000000  1.000000  1.000000   \n",
       "4    1.000000  1.000000  1.000000  ...  1.000000  1.000000  1.000000   \n",
       "..        ...       ...       ...  ...       ...       ...       ...   \n",
       "255  0.960314  0.969509  1.002609  ...  1.002836  0.976298  1.054035   \n",
       "256  1.033926  0.965695  1.116696  ...  0.989637  0.970859  1.025445   \n",
       "257  1.090648  1.050461  0.973851  ...  0.945818  1.001298  0.992026   \n",
       "258  1.049522  1.054784  1.007234  ...  1.032245  1.028729  1.042835   \n",
       "259  1.024573  0.965298  0.973682  ...  0.991779  1.122135  0.986415   \n",
       "\n",
       "          994       995       996       997       998       999  curvename  \n",
       "0    1.000000  1.000000  1.000000  1.000000  1.000000  1.000000   0_il_mod  \n",
       "1    1.000000  1.000000  1.000000  1.000000  1.000000  1.000000   1_il_mod  \n",
       "2    1.000000  1.000000  1.000000  1.000000  1.000000  1.000000   2_il_mod  \n",
       "3    1.000000  1.000000  1.000000  1.000000  1.000000  1.000000   3_il_mod  \n",
       "4    1.000000  1.000000  1.000000  1.000000  1.000000  1.000000   5_il_mod  \n",
       "..        ...       ...       ...       ...       ...       ...        ...  \n",
       "255  1.020903  0.945419  1.023204  1.026406  1.017635  0.972459       36_p  \n",
       "256  0.983253  1.079611  0.940009  0.992152  0.968628  1.085717       36_p  \n",
       "257  1.042029  0.988266  0.934002  1.030248  0.959041  0.883450       37_p  \n",
       "258  0.964587  1.002649  0.986056  0.958316  1.050781  1.018299       37_p  \n",
       "259  1.022243  0.976812  0.977324  1.051764  1.029217  1.022480       37_p  \n",
       "\n",
       "[260 rows x 1002 columns]"
      ]
     },
     "execution_count": 13,
     "metadata": {},
     "output_type": "execute_result"
    }
   ],
   "source": [
    "X_train"
   ]
  },
  {
   "cell_type": "code",
   "execution_count": 14,
   "metadata": {
    "colab": {
     "base_uri": "https://localhost:8080/"
    },
    "executionInfo": {
     "elapsed": 232,
     "status": "ok",
     "timestamp": 1689345483805,
     "user": {
      "displayName": "кто-то там",
      "userId": "18035495133147418666"
     },
     "user_tz": -300
    },
    "id": "EF22NuCiRI4j",
    "outputId": "25db8ee8-fe53-4951-9f7c-b5471946a047"
   },
   "outputs": [
    {
     "data": {
      "text/plain": [
       "(260, 1000, 1)"
      ]
     },
     "execution_count": 14,
     "metadata": {},
     "output_type": "execute_result"
    }
   ],
   "source": [
    "X_train_arr.shape"
   ]
  },
  {
   "cell_type": "code",
   "execution_count": 29,
   "metadata": {
    "executionInfo": {
     "elapsed": 280,
     "status": "ok",
     "timestamp": 1689345482291,
     "user": {
      "displayName": "кто-то там",
      "userId": "18035495133147418666"
     },
     "user_tz": -300
    },
    "id": "mps6nvQM_nbc"
   },
   "outputs": [],
   "source": []
  },
  {
   "cell_type": "code",
   "execution_count": 15,
   "metadata": {
    "executionInfo": {
     "elapsed": 249,
     "status": "ok",
     "timestamp": 1689345026464,
     "user": {
      "displayName": "кто-то там",
      "userId": "18035495133147418666"
     },
     "user_tz": -300
    },
    "id": "MJ3CeuFFhrDQ"
   },
   "outputs": [],
   "source": [
    "log_dir = \"logs/fit/\" + datetime.datetime.now().strftime(\"%Y%m%d-%H%M%S\")\n",
    "tensorboard_callback = tf.keras.callbacks.TensorBoard(log_dir=log_dir, histogram_freq=1)"
   ]
  },
  {
   "cell_type": "code",
   "execution_count": null,
   "metadata": {
    "id": "KXdeVm031y5c"
   },
   "outputs": [],
   "source": []
  },
  {
   "cell_type": "code",
   "execution_count": 16,
   "metadata": {
    "colab": {
     "base_uri": "https://localhost:8080/"
    },
    "executionInfo": {
     "elapsed": 10680,
     "status": "ok",
     "timestamp": 1689345454663,
     "user": {
      "displayName": "кто-то там",
      "userId": "18035495133147418666"
     },
     "user_tz": -300
    },
    "id": "EIBQSY-e-sY-",
    "outputId": "1d832c1d-dd4f-4954-b9e5-f9c550e588af"
   },
   "outputs": [
    {
     "name": "stdout",
     "output_type": "stream",
     "text": [
      "Epoch 1/45\n",
      "14/14 [==============================] - 23s 675ms/step - loss: 0.7701 - categorical_crossentropy: 0.7701 - acc: 0.7352 - val_loss: 0.6797 - val_categorical_crossentropy: 0.6797 - val_acc: 0.7702\n",
      "Epoch 2/45\n",
      "14/14 [==============================] - 7s 521ms/step - loss: 0.7151 - categorical_crossentropy: 0.7151 - acc: 0.7352 - val_loss: 0.6488 - val_categorical_crossentropy: 0.6488 - val_acc: 0.7702\n",
      "Epoch 3/45\n",
      "14/14 [==============================] - 8s 540ms/step - loss: 0.6752 - categorical_crossentropy: 0.6752 - acc: 0.7352 - val_loss: 0.6176 - val_categorical_crossentropy: 0.6176 - val_acc: 0.7702\n",
      "Epoch 4/45\n",
      "14/14 [==============================] - 7s 516ms/step - loss: 0.6347 - categorical_crossentropy: 0.6347 - acc: 0.7351 - val_loss: 0.5739 - val_categorical_crossentropy: 0.5739 - val_acc: 0.7701\n",
      "Epoch 5/45\n",
      "14/14 [==============================] - 8s 580ms/step - loss: 0.5843 - categorical_crossentropy: 0.5843 - acc: 0.7354 - val_loss: 0.5245 - val_categorical_crossentropy: 0.5245 - val_acc: 0.7731\n",
      "Epoch 6/45\n",
      "14/14 [==============================] - 7s 530ms/step - loss: 0.5326 - categorical_crossentropy: 0.5326 - acc: 0.7560 - val_loss: 0.4787 - val_categorical_crossentropy: 0.4787 - val_acc: 0.7914\n",
      "Epoch 7/45\n",
      "14/14 [==============================] - 7s 521ms/step - loss: 0.4869 - categorical_crossentropy: 0.4869 - acc: 0.7701 - val_loss: 0.4409 - val_categorical_crossentropy: 0.4409 - val_acc: 0.7960\n",
      "Epoch 8/45\n",
      "14/14 [==============================] - 7s 522ms/step - loss: 0.4539 - categorical_crossentropy: 0.4539 - acc: 0.7855 - val_loss: 0.4201 - val_categorical_crossentropy: 0.4201 - val_acc: 0.8171\n",
      "Epoch 9/45\n",
      "14/14 [==============================] - 7s 532ms/step - loss: 0.4261 - categorical_crossentropy: 0.4261 - acc: 0.8004 - val_loss: 0.3904 - val_categorical_crossentropy: 0.3904 - val_acc: 0.8202\n",
      "Epoch 10/45\n",
      "14/14 [==============================] - 7s 541ms/step - loss: 0.4072 - categorical_crossentropy: 0.4072 - acc: 0.8092 - val_loss: 0.3740 - val_categorical_crossentropy: 0.3740 - val_acc: 0.8270\n",
      "Epoch 11/45\n",
      "14/14 [==============================] - 8s 540ms/step - loss: 0.4009 - categorical_crossentropy: 0.4009 - acc: 0.8122 - val_loss: 0.3742 - val_categorical_crossentropy: 0.3742 - val_acc: 0.8231\n",
      "Epoch 12/45\n",
      "14/14 [==============================] - 7s 514ms/step - loss: 0.3923 - categorical_crossentropy: 0.3923 - acc: 0.8182 - val_loss: 0.3650 - val_categorical_crossentropy: 0.3650 - val_acc: 0.8231\n",
      "Epoch 13/45\n",
      "14/14 [==============================] - 7s 515ms/step - loss: 0.3871 - categorical_crossentropy: 0.3871 - acc: 0.8225 - val_loss: 0.3539 - val_categorical_crossentropy: 0.3539 - val_acc: 0.8395\n",
      "Epoch 14/45\n",
      "14/14 [==============================] - 7s 511ms/step - loss: 0.3752 - categorical_crossentropy: 0.3752 - acc: 0.8309 - val_loss: 0.3471 - val_categorical_crossentropy: 0.3471 - val_acc: 0.8374\n",
      "Epoch 15/45\n",
      "14/14 [==============================] - 7s 515ms/step - loss: 0.3712 - categorical_crossentropy: 0.3712 - acc: 0.8326 - val_loss: 0.3472 - val_categorical_crossentropy: 0.3472 - val_acc: 0.8394\n",
      "Epoch 16/45\n",
      "14/14 [==============================] - 7s 520ms/step - loss: 0.3633 - categorical_crossentropy: 0.3633 - acc: 0.8394 - val_loss: 0.3375 - val_categorical_crossentropy: 0.3375 - val_acc: 0.8442\n",
      "Epoch 17/45\n",
      "14/14 [==============================] - 7s 531ms/step - loss: 0.3613 - categorical_crossentropy: 0.3613 - acc: 0.8387 - val_loss: 0.3326 - val_categorical_crossentropy: 0.3326 - val_acc: 0.8483\n",
      "Epoch 18/45\n",
      "14/14 [==============================] - 7s 516ms/step - loss: 0.3577 - categorical_crossentropy: 0.3577 - acc: 0.8445 - val_loss: 0.3424 - val_categorical_crossentropy: 0.3424 - val_acc: 0.8529\n",
      "Epoch 19/45\n",
      "14/14 [==============================] - 7s 519ms/step - loss: 0.3548 - categorical_crossentropy: 0.3548 - acc: 0.8458 - val_loss: 0.3300 - val_categorical_crossentropy: 0.3300 - val_acc: 0.8485\n",
      "Epoch 20/45\n",
      "14/14 [==============================] - 7s 515ms/step - loss: 0.3490 - categorical_crossentropy: 0.3490 - acc: 0.8480 - val_loss: 0.3333 - val_categorical_crossentropy: 0.3333 - val_acc: 0.8438\n",
      "Epoch 21/45\n",
      "14/14 [==============================] - 7s 515ms/step - loss: 0.3513 - categorical_crossentropy: 0.3513 - acc: 0.8432 - val_loss: 0.3188 - val_categorical_crossentropy: 0.3188 - val_acc: 0.8585\n",
      "Epoch 22/45\n",
      "14/14 [==============================] - 7s 528ms/step - loss: 0.3482 - categorical_crossentropy: 0.3482 - acc: 0.8461 - val_loss: 0.3380 - val_categorical_crossentropy: 0.3380 - val_acc: 0.8451\n",
      "Epoch 23/45\n",
      "14/14 [==============================] - 7s 515ms/step - loss: 0.3499 - categorical_crossentropy: 0.3499 - acc: 0.8400 - val_loss: 0.3257 - val_categorical_crossentropy: 0.3257 - val_acc: 0.8510\n",
      "Epoch 24/45\n",
      "14/14 [==============================] - 7s 523ms/step - loss: 0.3336 - categorical_crossentropy: 0.3336 - acc: 0.8563 - val_loss: 0.3128 - val_categorical_crossentropy: 0.3128 - val_acc: 0.8606\n",
      "Epoch 25/45\n",
      "14/14 [==============================] - 7s 520ms/step - loss: 0.3256 - categorical_crossentropy: 0.3256 - acc: 0.8619 - val_loss: 0.3054 - val_categorical_crossentropy: 0.3054 - val_acc: 0.8652\n",
      "Epoch 26/45\n",
      "14/14 [==============================] - 7s 531ms/step - loss: 0.3130 - categorical_crossentropy: 0.3130 - acc: 0.8690 - val_loss: 0.3001 - val_categorical_crossentropy: 0.3001 - val_acc: 0.8690\n",
      "Epoch 27/45\n",
      "14/14 [==============================] - 7s 513ms/step - loss: 0.3056 - categorical_crossentropy: 0.3056 - acc: 0.8716 - val_loss: 0.2907 - val_categorical_crossentropy: 0.2907 - val_acc: 0.8744\n",
      "Epoch 28/45\n",
      "14/14 [==============================] - 7s 515ms/step - loss: 0.2980 - categorical_crossentropy: 0.2980 - acc: 0.8757 - val_loss: 0.2879 - val_categorical_crossentropy: 0.2879 - val_acc: 0.8761\n",
      "Epoch 29/45\n",
      "14/14 [==============================] - 7s 513ms/step - loss: 0.3042 - categorical_crossentropy: 0.3042 - acc: 0.8712 - val_loss: 0.2872 - val_categorical_crossentropy: 0.2872 - val_acc: 0.8818\n",
      "Epoch 30/45\n",
      "14/14 [==============================] - 7s 520ms/step - loss: 0.2904 - categorical_crossentropy: 0.2904 - acc: 0.8794 - val_loss: 0.2811 - val_categorical_crossentropy: 0.2811 - val_acc: 0.8802\n",
      "Epoch 31/45\n",
      "14/14 [==============================] - 7s 514ms/step - loss: 0.2871 - categorical_crossentropy: 0.2871 - acc: 0.8792 - val_loss: 0.2798 - val_categorical_crossentropy: 0.2798 - val_acc: 0.8806\n",
      "Epoch 32/45\n",
      "14/14 [==============================] - 7s 511ms/step - loss: 0.2831 - categorical_crossentropy: 0.2831 - acc: 0.8831 - val_loss: 0.2705 - val_categorical_crossentropy: 0.2705 - val_acc: 0.8849\n",
      "Epoch 33/45\n",
      "14/14 [==============================] - 7s 514ms/step - loss: 0.2798 - categorical_crossentropy: 0.2798 - acc: 0.8848 - val_loss: 0.2650 - val_categorical_crossentropy: 0.2650 - val_acc: 0.8861\n",
      "Epoch 34/45\n",
      "14/14 [==============================] - 7s 514ms/step - loss: 0.2701 - categorical_crossentropy: 0.2701 - acc: 0.8877 - val_loss: 0.2515 - val_categorical_crossentropy: 0.2515 - val_acc: 0.8951\n",
      "Epoch 35/45\n",
      "14/14 [==============================] - 7s 528ms/step - loss: 0.2639 - categorical_crossentropy: 0.2639 - acc: 0.8917 - val_loss: 0.2569 - val_categorical_crossentropy: 0.2569 - val_acc: 0.8895\n",
      "Epoch 36/45\n",
      "14/14 [==============================] - 7s 535ms/step - loss: 0.2602 - categorical_crossentropy: 0.2602 - acc: 0.8926 - val_loss: 0.2457 - val_categorical_crossentropy: 0.2457 - val_acc: 0.8995\n",
      "Epoch 37/45\n",
      "14/14 [==============================] - 7s 532ms/step - loss: 0.2606 - categorical_crossentropy: 0.2606 - acc: 0.8942 - val_loss: 0.2533 - val_categorical_crossentropy: 0.2533 - val_acc: 0.8991\n",
      "Epoch 38/45\n",
      "14/14 [==============================] - 8s 544ms/step - loss: 0.2562 - categorical_crossentropy: 0.2562 - acc: 0.8961 - val_loss: 0.2385 - val_categorical_crossentropy: 0.2385 - val_acc: 0.8977\n",
      "Epoch 39/45\n",
      "14/14 [==============================] - 7s 527ms/step - loss: 0.2415 - categorical_crossentropy: 0.2415 - acc: 0.9023 - val_loss: 0.2388 - val_categorical_crossentropy: 0.2388 - val_acc: 0.9044\n",
      "Epoch 40/45\n",
      "14/14 [==============================] - 7s 520ms/step - loss: 0.2345 - categorical_crossentropy: 0.2345 - acc: 0.9044 - val_loss: 0.2196 - val_categorical_crossentropy: 0.2196 - val_acc: 0.9129\n"
     ]
    },
    {
     "name": "stdout",
     "output_type": "stream",
     "text": [
      "Epoch 41/45\n",
      "14/14 [==============================] - 7s 514ms/step - loss: 0.2253 - categorical_crossentropy: 0.2253 - acc: 0.9118 - val_loss: 0.2230 - val_categorical_crossentropy: 0.2230 - val_acc: 0.9081\n",
      "Epoch 42/45\n",
      "14/14 [==============================] - 7s 514ms/step - loss: 0.2247 - categorical_crossentropy: 0.2247 - acc: 0.9110 - val_loss: 0.2184 - val_categorical_crossentropy: 0.2183 - val_acc: 0.9112\n",
      "Epoch 43/45\n",
      "14/14 [==============================] - 7s 516ms/step - loss: 0.2425 - categorical_crossentropy: 0.2425 - acc: 0.9018 - val_loss: 0.2259 - val_categorical_crossentropy: 0.2259 - val_acc: 0.9084\n",
      "Epoch 44/45\n",
      "14/14 [==============================] - 7s 519ms/step - loss: 0.2219 - categorical_crossentropy: 0.2219 - acc: 0.9113 - val_loss: 0.2151 - val_categorical_crossentropy: 0.2151 - val_acc: 0.9125\n",
      "Epoch 45/45\n",
      "14/14 [==============================] - 7s 528ms/step - loss: 0.2056 - categorical_crossentropy: 0.2056 - acc: 0.9180 - val_loss: 0.2091 - val_categorical_crossentropy: 0.2091 - val_acc: 0.9136\n"
     ]
    },
    {
     "data": {
      "text/plain": [
       "<keras.src.callbacks.History at 0x1e083ee5dc0>"
      ]
     },
     "execution_count": 16,
     "metadata": {},
     "output_type": "execute_result"
    }
   ],
   "source": [
    "model_4_dilation.fit(X_train_arr, y_train_arr, epochs = 45, batch_size = 15, validation_split= 0.2, callbacks = [tensorboard_callback])\n"
   ]
  },
  {
   "cell_type": "code",
   "execution_count": 17,
   "metadata": {
    "colab": {
     "base_uri": "https://localhost:8080/"
    },
    "executionInfo": {
     "elapsed": 600,
     "status": "ok",
     "timestamp": 1689345456490,
     "user": {
      "displayName": "кто-то там",
      "userId": "18035495133147418666"
     },
     "user_tz": -300
    },
    "id": "Q3wHpIOMSEBR",
    "outputId": "243c7146-cf45-4cae-fd78-4e3bdb7704cf"
   },
   "outputs": [
    {
     "name": "stdout",
     "output_type": "stream",
     "text": [
      "1/1 [==============================] - 0s 141ms/step - loss: 0.2379 - categorical_crossentropy: 0.2379 - acc: 0.9130\n"
     ]
    },
    {
     "data": {
      "text/plain": [
       "[0.2378910481929779, 0.2378910481929779, 0.9129999876022339]"
      ]
     },
     "execution_count": 17,
     "metadata": {},
     "output_type": "execute_result"
    }
   ],
   "source": [
    "model_4_dilation.evaluate(X_test_eval, y_test_eval)"
   ]
  },
  {
   "cell_type": "code",
   "execution_count": 18,
   "metadata": {
    "id": "nxfM7Z-5FxnT"
   },
   "outputs": [
    {
     "data": {
      "text/html": [
       "\n",
       "      <iframe id=\"tensorboard-frame-7ecd4df75933c89\" width=\"100%\" height=\"800\" frameborder=\"0\">\n",
       "      </iframe>\n",
       "      <script>\n",
       "        (function() {\n",
       "          const frame = document.getElementById(\"tensorboard-frame-7ecd4df75933c89\");\n",
       "          const url = new URL(\"/\", window.location);\n",
       "          const port = 6006;\n",
       "          if (port) {\n",
       "            url.port = port;\n",
       "          }\n",
       "          frame.src = url;\n",
       "        })();\n",
       "      </script>\n",
       "    "
      ],
      "text/plain": [
       "<IPython.core.display.HTML object>"
      ]
     },
     "metadata": {},
     "output_type": "display_data"
    }
   ],
   "source": [
    "%tensorboard --logdir logs/fit"
   ]
  },
  {
   "cell_type": "code",
   "execution_count": null,
   "metadata": {
    "id": "KZyO6w57GH6a"
   },
   "outputs": [],
   "source": [
    "rm -rf ./logs/"
   ]
  },
  {
   "cell_type": "code",
   "execution_count": 19,
   "metadata": {
    "executionInfo": {
     "elapsed": 323,
     "status": "ok",
     "timestamp": 1689345287191,
     "user": {
      "displayName": "кто-то там",
      "userId": "18035495133147418666"
     },
     "user_tz": -300
    },
    "id": "PMYa0UKMZKnW"
   },
   "outputs": [],
   "source": [
    "def tresholder(mask, threshold):\n",
    "  res = np.zeros_like(mask)\n",
    "  res[mask > threshold] = 1\n",
    "  return res\n",
    "\n",
    "def naive_postprocesseor(mask_dataset_input):\n",
    "  out = np.zeros_like(mask_dataset_input)\n",
    "\n",
    "  for i in range (mask_dataset_input.shape[0]):\n",
    "    everything = mask_dataset_input[i, :]\n",
    "    channels = (mask_dataset_input[i, :] == 1)\n",
    "    barres = (mask_dataset_input[i, :] == 2)\n",
    "\n",
    "    anomalies = np.zeros_like(mask_dataset_input[i,:])\n",
    "    anomalies[(channels + barres)  != False] = 1\n",
    "\n",
    "    edges_anomalies = np.diff(anomalies, 1)\n",
    "    left_edges = np.nonzero(edges_anomalies == 1)[0]\n",
    "    right_edges = np.nonzero(edges_anomalies == -1)[0]\n",
    "    for j in range(len(left_edges)):\n",
    "      window = everything[left_edges[j] : right_edges[j]]\n",
    "      channelcount = np.sum(window == 1)\n",
    "      barrecount = np.sum(window == 2)\n",
    "\n",
    "\n",
    "      if channelcount >= barrecount:\n",
    "        everything[left_edges[j] : right_edges[j]] = 1\n",
    "      else:\n",
    "        everything[left_edges[j] : right_edges[j]] = 2\n",
    "\n",
    "    out[i,:] = everything\n",
    "  return out\n",
    "\n",
    "\n"
   ]
  },
  {
   "cell_type": "code",
   "execution_count": 20,
   "metadata": {
    "colab": {
     "base_uri": "https://localhost:8080/"
    },
    "executionInfo": {
     "elapsed": 2,
     "status": "ok",
     "timestamp": 1689345288541,
     "user": {
      "displayName": "кто-то там",
      "userId": "18035495133147418666"
     },
     "user_tz": -300
    },
    "id": "YNvhP24yZVwe",
    "outputId": "8790f80c-294b-4ae2-d333-8806bf3c2ed8"
   },
   "outputs": [
    {
     "name": "stdout",
     "output_type": "stream",
     "text": [
      "1/1 [==============================] - 2s 2s/step\n"
     ]
    }
   ],
   "source": [
    "predictions = model_4_dilation.predict(X_test_eval)\n",
    "X_draw = X_test_eval.squeeze()\n",
    "predictions = predictions.squeeze()\n",
    "reality = y_test_eval.squeeze()"
   ]
  },
  {
   "cell_type": "code",
   "execution_count": null,
   "metadata": {
    "colab": {
     "base_uri": "https://localhost:8080/",
     "height": 447
    },
    "executionInfo": {
     "elapsed": 396,
     "status": "ok",
     "timestamp": 1689345289899,
     "user": {
      "displayName": "кто-то там",
      "userId": "18035495133147418666"
     },
     "user_tz": -300
    },
    "id": "o2r7i7Y0ZVso",
    "outputId": "e19ebd3a-886b-41ca-8e28-54a15447b782"
   },
   "outputs": [],
   "source": []
  },
  {
   "cell_type": "code",
   "execution_count": 21,
   "metadata": {
    "colab": {
     "base_uri": "https://localhost:8080/",
     "height": 447
    },
    "executionInfo": {
     "elapsed": 979,
     "status": "ok",
     "timestamp": 1689345297957,
     "user": {
      "displayName": "кто-то там",
      "userId": "18035495133147418666"
     },
     "user_tz": -300
    },
    "id": "R_fA75w-jdBy",
    "outputId": "cb2cbdc9-f3c2-41f4-bd9e-788528b1fb71"
   },
   "outputs": [
    {
     "data": {
      "text/plain": [
       "[<matplotlib.lines.Line2D at 0x1e0a3911df0>]"
      ]
     },
     "execution_count": 21,
     "metadata": {},
     "output_type": "execute_result"
    },
    {
     "data": {
      "image/png": "[encoded data removed]",
      "text/plain": [
       "<Figure size 640x480 with 1 Axes>"
      ]
     },
     "metadata": {},
     "output_type": "display_data"
    }
   ],
   "source": [
    "if reality.shape[-1] == 3:\n",
    "  reality = np.argmax(reality, axis = -1)\n",
    "  predictions = np.argmax(predictions, axis = -1)\n",
    "\n",
    "curve_ind = 6\n",
    "pred_postprocessed = predictions\n",
    "pred_postprocessed = naive_postprocesseor(pred_postprocessed)\n",
    "\n",
    "draw_curve = X_draw[curve_ind]\n",
    "real_mask = reality[curve_ind]\n",
    "pred_mask = pred_postprocessed[curve_ind]\n",
    "\n",
    "\n",
    "real_mask = real_mask[np.diff(draw_curve, 1, prepend = (1)) != 0]\n",
    "pred_mask = pred_mask[np.diff(draw_curve, 1, prepend = (1)) != 0]\n",
    "draw_curve = draw_curve[np.diff(draw_curve, 1, prepend = (1)) != 0]\n",
    "draw_curve = draw_curve.max() - draw_curve\n",
    "draw_curve = (draw_curve - draw_curve.min())/(draw_curve.max()- draw_curve.min())\n",
    "\n",
    "\n",
    "plt.plot()\n",
    "\n",
    "plt.xticks(range(0,input_len,200))\n",
    "\n",
    "plt.fill_between(range(len(draw_curve)), 0.5, draw_curve.max(), where = pred_mask == 1 ,color = \"red\")\n",
    "plt.fill_between(range(len(draw_curve)), 0.5, draw_curve.min(), where = real_mask == 1 ,color = \"red\")\n",
    "plt.fill_between(range(len(draw_curve)), 0.5, draw_curve.max(), where = pred_mask == 2 ,color = \"blue\")\n",
    "plt.fill_between(range(len(draw_curve)), 0.5, draw_curve.min(), where = real_mask == 2 ,color = \"blue\")\n",
    "plt.plot(draw_curve, 'k-')"
   ]
  },
  {
   "cell_type": "code",
   "execution_count": 23,
   "metadata": {
    "id": "kLDGmDzV40UC"
   },
   "outputs": [
    {
     "name": "stdout",
     "output_type": "stream",
     "text": [
      "3/3 [==============================] - 0s 120ms/step\n"
     ]
    }
   ],
   "source": [
    "Output = pd.read_csv('DatasetForPetroCNN/curves.csv')\n",
    "Output = Output.drop([\"Unnamed: 0\"], axis = 1)\n",
    "Output_arr = np.array(Output.drop([\"curvename\"], axis = 1))\n",
    "prediction_masks = model_4_dilation.predict(np.expand_dims(Output_arr, axis = 2))\n",
    "prediction_masks = np.argmax(prediction_masks, axis = -1)\n",
    "prediction_masks = pd.DataFrame(prediction_masks.squeeze())\n",
    "prediction_masks[\"curvename\"] = Output[\"curvename\"]\n",
    "prediction_masks.to_csv('DatasetForPetroCNN/Output.csv')"
   ]
  },
  {
   "cell_type": "code",
   "execution_count": 25,
   "metadata": {
    "id": "yUdcLJUPAf6q"
   },
   "outputs": [
    {
     "name": "stdout",
     "output_type": "stream",
     "text": [
      "INFO:tensorflow:Assets written to: model_4_dil.json\\assets\n"
     ]
    },
    {
     "name": "stderr",
     "output_type": "stream",
     "text": [
      "INFO:tensorflow:Assets written to: model_4_dil.json\\assets\n"
     ]
    }
   ],
   "source": [
    "model_4_dilation.save('model_4_dil.json')\n",
    "model_4_dilation.save_weights('model_4_dil_w8s.h5')"
   ]
  },
  {
   "cell_type": "code",
   "execution_count": null,
   "metadata": {
    "id": "zLyHXDGyBEVJ"
   },
   "outputs": [],
   "source": [
    "model = keras.models.load_model('model_4_dil.json')\n",
    "model.load_weights('model_4_dil_w8s.h5')"
   ]
  },
  {
   "cell_type": "code",
   "execution_count": null,
   "metadata": {
    "id": "K_cJ2fudt8Ar"
   },
   "outputs": [],
   "source": []
  },
  {
   "cell_type": "code",
   "execution_count": null,
   "metadata": {
    "id": "T9mD0tfrHTXM"
   },
   "outputs": [],
   "source": []
  },
  {
   "cell_type": "code",
   "execution_count": null,
   "metadata": {
    "id": "V77Vg0UeGY-2"
   },
   "outputs": [],
   "source": []
  },
  {
   "cell_type": "code",
   "execution_count": null,
   "metadata": {
    "id": "Yii_WCmOsK83"
   },
   "outputs": [],
   "source": []
  },
  {
   "cell_type": "code",
   "execution_count": null,
   "metadata": {
    "id": "dW620_ge5fqn"
   },
   "outputs": [],
   "source": [
    "\n"
   ]
  },
  {
   "cell_type": "code",
   "execution_count": null,
   "metadata": {
    "id": "U_YFepv_5H3R"
   },
   "outputs": [],
   "source": []
  },
  {
   "cell_type": "code",
   "execution_count": null,
   "metadata": {
    "id": "ygKse3QEsrd7"
   },
   "outputs": [],
   "source": []
  },
  {
   "cell_type": "code",
   "execution_count": null,
   "metadata": {
    "id": "xUV4cZtLlry-"
   },
   "outputs": [],
   "source": []
  },
  {
   "cell_type": "code",
   "execution_count": null,
   "metadata": {
    "colab": {
     "base_uri": "https://localhost:8080/"
    },
    "executionInfo": {
     "elapsed": 466,
     "status": "ok",
     "timestamp": 1685121638971,
     "user": {
      "displayName": "кто-то там",
      "userId": "18035495133147418666"
     },
     "user_tz": -300
    },
    "id": "w4wW-tIp6-ws",
    "outputId": "c1215300-dc1b-47e0-9d53-86480f87aad0"
   },
   "outputs": [],
   "source": []
  },
  {
   "cell_type": "code",
   "execution_count": null,
   "metadata": {
    "id": "aoVKZkR8lux2"
   },
   "outputs": [],
   "source": []
  },
  {
   "cell_type": "code",
   "execution_count": null,
   "metadata": {
    "id": "aaA8n3rHq8hA"
   },
   "outputs": [],
   "source": []
  },
  {
   "cell_type": "code",
   "execution_count": null,
   "metadata": {
    "id": "tT4u9hrYtgkV"
   },
   "outputs": [],
   "source": []
  },
  {
   "cell_type": "code",
   "execution_count": null,
   "metadata": {
    "colab": {
     "base_uri": "https://localhost:8080/"
    },
    "executionInfo": {
     "elapsed": 2,
     "status": "ok",
     "timestamp": 1684770606851,
     "user": {
      "displayName": "кто-то там",
      "userId": "18035495133147418666"
     },
     "user_tz": -300
    },
    "id": "PBtMgbg9lPaX",
    "outputId": "298e9d42-f8c1-4248-9cfe-310485eb6542"
   },
   "outputs": [],
   "source": []
  },
  {
   "cell_type": "code",
   "execution_count": null,
   "metadata": {
    "id": "EmTSZeo6_9mY"
   },
   "outputs": [],
   "source": []
  },
  {
   "cell_type": "code",
   "execution_count": null,
   "metadata": {
    "id": "RUVvquTbE-QJ"
   },
   "outputs": [],
   "source": []
  },
  {
   "cell_type": "code",
   "execution_count": null,
   "metadata": {
    "id": "n_cqHcJkE3KX"
   },
   "outputs": [],
   "source": [
    "\n"
   ]
  }
 ],
 "metadata": {
  "accelerator": "GPU",
  "colab": {
   "authorship_tag": "ABX9TyOmoDF3c6N9ecTbC0U3tqg2",
   "gpuType": "T4",
   "mount_file_id": "1Jn__Dx68FN63GE4VQWf-IP63Wlw3rcJS",
   "provenance": []
  },
  "kernelspec": {
   "display_name": "Python 3 (ipykernel)",
   "language": "python",
   "name": "python3"
  },
  "language_info": {
   "codemirror_mode": {
    "name": "ipython",
    "version": 3
   },
   "file_extension": ".py",
   "mimetype": "text/x-python",
   "name": "python",
   "nbconvert_exporter": "python",
   "pygments_lexer": "ipython3",
   "version": "3.9.7"
  }
 },
 "nbformat": 4,
 "nbformat_minor": 1
}
